{
 "cells": [
  {
   "cell_type": "markdown",
   "metadata": {},
   "source": [
    "### Environment Setup and Data Load"
   ]
  },
  {
   "cell_type": "code",
   "execution_count": null,
   "metadata": {},
   "outputs": [],
   "source": [
    "## Load the libraries"
   ]
  },
  {
   "cell_type": "code",
   "execution_count": 70,
   "metadata": {},
   "outputs": [],
   "source": [
    "warning=FALSE\n",
    "options(warn = -1)\n",
    "install.packages(\"corrplot\")\n",
    "\n",
    "library(dplyr)\n",
    "library(tidyr)\n",
    "library(ggplot2)\n",
    "library(readr)\n",
    "library(stringr)\n",
    "#library(car)\n",
    "library(corrplot)\n",
    "\n"
   ]
  },
  {
   "cell_type": "code",
   "execution_count": null,
   "metadata": {},
   "outputs": [],
   "source": [
    "## load data from directory"
   ]
  },
  {
   "cell_type": "code",
   "execution_count": 133,
   "metadata": {},
   "outputs": [],
   "source": [
    "data <-read.csv(\"MovieData.csv\", header=TRUE, sep= \",\")\n",
    "# there will be a summary of the column format when the file is read, which is okay"
   ]
  },
  {
   "cell_type": "code",
   "execution_count": 134,
   "metadata": {},
   "outputs": [
    {
     "data": {
      "text/html": [
       "<table>\n",
       "<thead><tr><th scope=col>id_number</th><th scope=col>Title.flag</th><th scope=col>movie_name</th><th scope=col>year</th><th scope=col>budget</th><th scope=col>domestic</th><th scope=col>international</th><th scope=col>rating</th><th scope=col>storytype</th><th scope=col>source</th><th scope=col>...</th><th scope=col>Actor.2.FB.Like</th><th scope=col>Actor.3.Name</th><th scope=col>Actor.3.FB.Like</th><th scope=col>Total.Cast.FB.Like</th><th scope=col>Movie.FB.Like</th><th scope=col>IMDB.Score</th><th scope=col>directors_avg_bo</th><th scope=col>actor_1_avg_bo</th><th scope=col>actor_2_avg_bo</th><th scope=col>actor_3_avg_bo</th></tr></thead>\n",
       "<tbody>\n",
       "\t<tr><td>284970100               </td><td>0                       </td><td>12 Strong               </td><td>2017                    </td><td>35000000                </td><td>20088384                </td><td> 2500000                </td><td>R                       </td><td>Historical Fiction      </td><td>Fiction Book/Short Story</td><td>...                     </td><td>NA                      </td><td>                        </td><td>NA                      </td><td>NA                      </td><td>NA                      </td><td>NA                      </td><td>NA                      </td><td>NA                      </td><td>NA                      </td><td>NA                      </td></tr>\n",
       "\t<tr><td>278830100               </td><td>0                       </td><td>A Bad Moms Christmas    </td><td>2017                    </td><td>28000000                </td><td>72110659                </td><td>55600000                </td><td>R                       </td><td>Contemporary Fiction    </td><td>Original Screenplay     </td><td>...                     </td><td>NA                      </td><td>                        </td><td>NA                      </td><td>NA                      </td><td>NA                      </td><td>NA                      </td><td>NA                      </td><td>NA                      </td><td>NA                      </td><td>NA                      </td></tr>\n",
       "\t<tr><td>229540100               </td><td>0                       </td><td>American Made           </td><td>2017                    </td><td>50000000                </td><td>51342000                </td><td>84239390                </td><td>R                       </td><td>Dramatization           </td><td>Factual Book/Real Events</td><td>...                     </td><td>NA                      </td><td>                        </td><td>NA                      </td><td>NA                      </td><td>NA                      </td><td>NA                      </td><td>NA                      </td><td>NA                      </td><td>NA                      </td><td>NA                      </td></tr>\n",
       "</tbody>\n",
       "</table>\n"
      ],
      "text/latex": [
       "\\begin{tabular}{r|lllllllllllllllllllllllllllll}\n",
       " id\\_number & Title.flag & movie\\_name & year & budget & domestic & international & rating & storytype & source & ... & Actor.2.FB.Like & Actor.3.Name & Actor.3.FB.Like & Total.Cast.FB.Like & Movie.FB.Like & IMDB.Score & directors\\_avg\\_bo & actor\\_1\\_avg\\_bo & actor\\_2\\_avg\\_bo & actor\\_3\\_avg\\_bo\\\\\n",
       "\\hline\n",
       "\t 284970100                & 0                        & 12 Strong                & 2017                     & 35000000                 & 20088384                 &  2500000                 & R                        & Historical Fiction       & Fiction Book/Short Story & ...                      & NA                       &                          & NA                       & NA                       & NA                       & NA                       & NA                       & NA                       & NA                       & NA                      \\\\\n",
       "\t 278830100                & 0                        & A Bad Moms Christmas     & 2017                     & 28000000                 & 72110659                 & 55600000                 & R                        & Contemporary Fiction     & Original Screenplay      & ...                      & NA                       &                          & NA                       & NA                       & NA                       & NA                       & NA                       & NA                       & NA                       & NA                      \\\\\n",
       "\t 229540100                & 0                        & American Made            & 2017                     & 50000000                 & 51342000                 & 84239390                 & R                        & Dramatization            & Factual Book/Real Events & ...                      & NA                       &                          & NA                       & NA                       & NA                       & NA                       & NA                       & NA                       & NA                       & NA                      \\\\\n",
       "\\end{tabular}\n"
      ],
      "text/markdown": [
       "\n",
       "| id_number | Title.flag | movie_name | year | budget | domestic | international | rating | storytype | source | ... | Actor.2.FB.Like | Actor.3.Name | Actor.3.FB.Like | Total.Cast.FB.Like | Movie.FB.Like | IMDB.Score | directors_avg_bo | actor_1_avg_bo | actor_2_avg_bo | actor_3_avg_bo |\n",
       "|---|---|---|---|---|---|---|---|---|---|---|---|---|---|---|---|---|---|---|---|---|\n",
       "| 284970100                | 0                        | 12 Strong                | 2017                     | 35000000                 | 20088384                 |  2500000                 | R                        | Historical Fiction       | Fiction Book/Short Story | ...                      | NA                       |                          | NA                       | NA                       | NA                       | NA                       | NA                       | NA                       | NA                       | NA                       |\n",
       "| 278830100                | 0                        | A Bad Moms Christmas     | 2017                     | 28000000                 | 72110659                 | 55600000                 | R                        | Contemporary Fiction     | Original Screenplay      | ...                      | NA                       |                          | NA                       | NA                       | NA                       | NA                       | NA                       | NA                       | NA                       | NA                       |\n",
       "| 229540100                | 0                        | American Made            | 2017                     | 50000000                 | 51342000                 | 84239390                 | R                        | Dramatization            | Factual Book/Real Events | ...                      | NA                       |                          | NA                       | NA                       | NA                       | NA                       | NA                       | NA                       | NA                       | NA                       |\n",
       "\n"
      ],
      "text/plain": [
       "  id_number Title.flag movie_name           year budget   domestic\n",
       "1 284970100 0          12 Strong            2017 35000000 20088384\n",
       "2 278830100 0          A Bad Moms Christmas 2017 28000000 72110659\n",
       "3 229540100 0          American Made        2017 50000000 51342000\n",
       "  international rating storytype            source                   ...\n",
       "1  2500000      R      Historical Fiction   Fiction Book/Short Story ...\n",
       "2 55600000      R      Contemporary Fiction Original Screenplay      ...\n",
       "3 84239390      R      Dramatization        Factual Book/Real Events ...\n",
       "  Actor.2.FB.Like Actor.3.Name Actor.3.FB.Like Total.Cast.FB.Like Movie.FB.Like\n",
       "1 NA                           NA              NA                 NA           \n",
       "2 NA                           NA              NA                 NA           \n",
       "3 NA                           NA              NA                 NA           \n",
       "  IMDB.Score directors_avg_bo actor_1_avg_bo actor_2_avg_bo actor_3_avg_bo\n",
       "1 NA         NA               NA             NA             NA            \n",
       "2 NA         NA               NA             NA             NA            \n",
       "3 NA         NA               NA             NA             NA            "
      ]
     },
     "metadata": {},
     "output_type": "display_data"
    },
    {
     "data": {
      "text/html": [
       "<table>\n",
       "<thead><tr><th></th><th scope=col>id_number</th><th scope=col>Title.flag</th><th scope=col>movie_name</th><th scope=col>year</th><th scope=col>budget</th><th scope=col>domestic</th><th scope=col>international</th><th scope=col>rating</th><th scope=col>storytype</th><th scope=col>source</th><th scope=col>...</th><th scope=col>Actor.2.FB.Like</th><th scope=col>Actor.3.Name</th><th scope=col>Actor.3.FB.Like</th><th scope=col>Total.Cast.FB.Like</th><th scope=col>Movie.FB.Like</th><th scope=col>IMDB.Score</th><th scope=col>directors_avg_bo</th><th scope=col>actor_1_avg_bo</th><th scope=col>actor_2_avg_bo</th><th scope=col>actor_3_avg_bo</th></tr></thead>\n",
       "<tbody>\n",
       "\t<tr><th scope=row>1692</th><td>  620100             </td><td>0                    </td><td>X-Men: The Last Stand</td><td>2006                 </td><td>210000000            </td><td>234362462            </td><td>224898484            </td><td>PG-13                </td><td>Super Hero           </td><td>Graphic Novel/Game   </td><td>...                  </td><td>808                  </td><td>Daniel Cudmore       </td><td>560                  </td><td>21714                </td><td>  0                  </td><td>6.8                  </td><td>277414597            </td><td>246643677            </td><td>547842547            </td><td>459260946            </td></tr>\n",
       "\t<tr><th scope=row>1693</th><td> 6310100             </td><td>0                    </td><td>You, Me and Dupree   </td><td>2006                 </td><td> 54000000            </td><td> 75802010            </td><td> 54600000            </td><td>PG-13                </td><td>Contemporary Fiction </td><td>Original Screenplay  </td><td>...                  </td><td>245                  </td><td>Amanda Detmer        </td><td>240                  </td><td>  847                </td><td>  0                  </td><td>5.6                  </td><td>666036131            </td><td>130402010            </td><td>130402010            </td><td>130402010            </td></tr>\n",
       "\t<tr><th scope=row>1694</th><td>34430100             </td><td>0                    </td><td>Zoom                 </td><td>2006                 </td><td> 35000000            </td><td> 11989328            </td><td>   516860            </td><td>PG                   </td><td>Super Hero           </td><td>Graphic Novel/Game   </td><td>...                  </td><td>826                  </td><td>Thomas F. Wilson     </td><td>690                  </td><td> 5022                </td><td>494                  </td><td>4.2                  </td><td> 12506188            </td><td> 29823225            </td><td>120321079            </td><td> 23319152            </td></tr>\n",
       "</tbody>\n",
       "</table>\n"
      ],
      "text/latex": [
       "\\begin{tabular}{r|lllllllllllllllllllllllllllll}\n",
       "  & id\\_number & Title.flag & movie\\_name & year & budget & domestic & international & rating & storytype & source & ... & Actor.2.FB.Like & Actor.3.Name & Actor.3.FB.Like & Total.Cast.FB.Like & Movie.FB.Like & IMDB.Score & directors\\_avg\\_bo & actor\\_1\\_avg\\_bo & actor\\_2\\_avg\\_bo & actor\\_3\\_avg\\_bo\\\\\n",
       "\\hline\n",
       "\t1692 &   620100              & 0                     & X-Men: The Last Stand & 2006                  & 210000000             & 234362462             & 224898484             & PG-13                 & Super Hero            & Graphic Novel/Game    & ...                   & 808                   & Daniel Cudmore        & 560                   & 21714                 &   0                   & 6.8                   & 277414597             & 246643677             & 547842547             & 459260946            \\\\\n",
       "\t1693 &  6310100              & 0                     & You, Me and Dupree    & 2006                  &  54000000             &  75802010             &  54600000             & PG-13                 & Contemporary Fiction  & Original Screenplay   & ...                   & 245                   & Amanda Detmer         & 240                   &   847                 &   0                   & 5.6                   & 666036131             & 130402010             & 130402010             & 130402010            \\\\\n",
       "\t1694 & 34430100              & 0                     & Zoom                  & 2006                  &  35000000             &  11989328             &    516860             & PG                    & Super Hero            & Graphic Novel/Game    & ...                   & 826                   & Thomas F. Wilson      & 690                   &  5022                 & 494                   & 4.2                   &  12506188             &  29823225             & 120321079             &  23319152            \\\\\n",
       "\\end{tabular}\n"
      ],
      "text/markdown": [
       "\n",
       "| <!--/--> | id_number | Title.flag | movie_name | year | budget | domestic | international | rating | storytype | source | ... | Actor.2.FB.Like | Actor.3.Name | Actor.3.FB.Like | Total.Cast.FB.Like | Movie.FB.Like | IMDB.Score | directors_avg_bo | actor_1_avg_bo | actor_2_avg_bo | actor_3_avg_bo |\n",
       "|---|---|---|---|---|---|---|---|---|---|---|---|---|---|---|---|---|---|---|---|---|---|\n",
       "| 1692 |   620100              | 0                     | X-Men: The Last Stand | 2006                  | 210000000             | 234362462             | 224898484             | PG-13                 | Super Hero            | Graphic Novel/Game    | ...                   | 808                   | Daniel Cudmore        | 560                   | 21714                 |   0                   | 6.8                   | 277414597             | 246643677             | 547842547             | 459260946             |\n",
       "| 1693 |  6310100              | 0                     | You, Me and Dupree    | 2006                  |  54000000             |  75802010             |  54600000             | PG-13                 | Contemporary Fiction  | Original Screenplay   | ...                   | 245                   | Amanda Detmer         | 240                   |   847                 |   0                   | 5.6                   | 666036131             | 130402010             | 130402010             | 130402010             |\n",
       "| 1694 | 34430100              | 0                     | Zoom                  | 2006                  |  35000000             |  11989328             |    516860             | PG                    | Super Hero            | Graphic Novel/Game    | ...                   | 826                   | Thomas F. Wilson      | 690                   |  5022                 | 494                   | 4.2                   |  12506188             |  29823225             | 120321079             |  23319152             |\n",
       "\n"
      ],
      "text/plain": [
       "     id_number Title.flag movie_name            year budget    domestic \n",
       "1692   620100  0          X-Men: The Last Stand 2006 210000000 234362462\n",
       "1693  6310100  0          You, Me and Dupree    2006  54000000  75802010\n",
       "1694 34430100  0          Zoom                  2006  35000000  11989328\n",
       "     international rating storytype            source              ...\n",
       "1692 224898484     PG-13  Super Hero           Graphic Novel/Game  ...\n",
       "1693  54600000     PG-13  Contemporary Fiction Original Screenplay ...\n",
       "1694    516860     PG     Super Hero           Graphic Novel/Game  ...\n",
       "     Actor.2.FB.Like Actor.3.Name     Actor.3.FB.Like Total.Cast.FB.Like\n",
       "1692 808             Daniel Cudmore   560             21714             \n",
       "1693 245             Amanda Detmer    240               847             \n",
       "1694 826             Thomas F. Wilson 690              5022             \n",
       "     Movie.FB.Like IMDB.Score directors_avg_bo actor_1_avg_bo actor_2_avg_bo\n",
       "1692   0           6.8        277414597        246643677      547842547     \n",
       "1693   0           5.6        666036131        130402010      130402010     \n",
       "1694 494           4.2         12506188         29823225      120321079     \n",
       "     actor_3_avg_bo\n",
       "1692 459260946     \n",
       "1693 130402010     \n",
       "1694  23319152     "
      ]
     },
     "metadata": {},
     "output_type": "display_data"
    }
   ],
   "source": [
    "## Review sample of first few and last few rows\n",
    "head(data,3)\n",
    "tail(data,3)"
   ]
  },
  {
   "cell_type": "code",
   "execution_count": 135,
   "metadata": {},
   "outputs": [
    {
     "data": {
      "text/html": [
       "<table>\n",
       "<thead><tr><th scope=col>colnames(data)</th><th scope=col>col_index</th></tr></thead>\n",
       "<tbody>\n",
       "\t<tr><td>id_number         </td><td> 1                </td></tr>\n",
       "\t<tr><td>Title.flag        </td><td> 2                </td></tr>\n",
       "\t<tr><td>movie_name        </td><td> 3                </td></tr>\n",
       "\t<tr><td>year              </td><td> 4                </td></tr>\n",
       "\t<tr><td>budget            </td><td> 5                </td></tr>\n",
       "\t<tr><td>domestic          </td><td> 6                </td></tr>\n",
       "\t<tr><td>international     </td><td> 7                </td></tr>\n",
       "\t<tr><td>rating            </td><td> 8                </td></tr>\n",
       "\t<tr><td>storytype         </td><td> 9                </td></tr>\n",
       "\t<tr><td>source            </td><td>10                </td></tr>\n",
       "\t<tr><td>production_method </td><td>11                </td></tr>\n",
       "\t<tr><td>genre             </td><td>12                </td></tr>\n",
       "\t<tr><td>sequel            </td><td>13                </td></tr>\n",
       "\t<tr><td>Release.Date      </td><td>14                </td></tr>\n",
       "\t<tr><td>Director          </td><td>15                </td></tr>\n",
       "\t<tr><td>Director.FB.Like  </td><td>16                </td></tr>\n",
       "\t<tr><td>Actor.1.Name      </td><td>17                </td></tr>\n",
       "\t<tr><td>Actor.1.FB.Like   </td><td>18                </td></tr>\n",
       "\t<tr><td>Actor.2.Name      </td><td>19                </td></tr>\n",
       "\t<tr><td>Actor.2.FB.Like   </td><td>20                </td></tr>\n",
       "\t<tr><td>Actor.3.Name      </td><td>21                </td></tr>\n",
       "\t<tr><td>Actor.3.FB.Like   </td><td>22                </td></tr>\n",
       "\t<tr><td>Total.Cast.FB.Like</td><td>23                </td></tr>\n",
       "\t<tr><td>Movie.FB.Like     </td><td>24                </td></tr>\n",
       "\t<tr><td>IMDB.Score        </td><td>25                </td></tr>\n",
       "\t<tr><td>directors_avg_bo  </td><td>26                </td></tr>\n",
       "\t<tr><td>actor_1_avg_bo    </td><td>27                </td></tr>\n",
       "\t<tr><td>actor_2_avg_bo    </td><td>28                </td></tr>\n",
       "\t<tr><td>actor_3_avg_bo    </td><td>29                </td></tr>\n",
       "</tbody>\n",
       "</table>\n"
      ],
      "text/latex": [
       "\\begin{tabular}{r|ll}\n",
       " colnames(data) & col\\_index\\\\\n",
       "\\hline\n",
       "\t id\\_number          &  1                  \\\\\n",
       "\t Title.flag         &  2                \\\\\n",
       "\t movie\\_name         &  3                  \\\\\n",
       "\t year               &  4                \\\\\n",
       "\t budget             &  5                \\\\\n",
       "\t domestic           &  6                \\\\\n",
       "\t international      &  7                \\\\\n",
       "\t rating             &  8                \\\\\n",
       "\t storytype          &  9                \\\\\n",
       "\t source             & 10                \\\\\n",
       "\t production\\_method  & 11                  \\\\\n",
       "\t genre              & 12                \\\\\n",
       "\t sequel             & 13                \\\\\n",
       "\t Release.Date       & 14                \\\\\n",
       "\t Director           & 15                \\\\\n",
       "\t Director.FB.Like   & 16                \\\\\n",
       "\t Actor.1.Name       & 17                \\\\\n",
       "\t Actor.1.FB.Like    & 18                \\\\\n",
       "\t Actor.2.Name       & 19                \\\\\n",
       "\t Actor.2.FB.Like    & 20                \\\\\n",
       "\t Actor.3.Name       & 21                \\\\\n",
       "\t Actor.3.FB.Like    & 22                \\\\\n",
       "\t Total.Cast.FB.Like & 23                \\\\\n",
       "\t Movie.FB.Like      & 24                \\\\\n",
       "\t IMDB.Score         & 25                \\\\\n",
       "\t directors\\_avg\\_bo   & 26                    \\\\\n",
       "\t actor\\_1\\_avg\\_bo     & 27                      \\\\\n",
       "\t actor\\_2\\_avg\\_bo     & 28                      \\\\\n",
       "\t actor\\_3\\_avg\\_bo     & 29                      \\\\\n",
       "\\end{tabular}\n"
      ],
      "text/markdown": [
       "\n",
       "| colnames(data) | col_index |\n",
       "|---|---|\n",
       "| id_number          |  1                 |\n",
       "| Title.flag         |  2                 |\n",
       "| movie_name         |  3                 |\n",
       "| year               |  4                 |\n",
       "| budget             |  5                 |\n",
       "| domestic           |  6                 |\n",
       "| international      |  7                 |\n",
       "| rating             |  8                 |\n",
       "| storytype          |  9                 |\n",
       "| source             | 10                 |\n",
       "| production_method  | 11                 |\n",
       "| genre              | 12                 |\n",
       "| sequel             | 13                 |\n",
       "| Release.Date       | 14                 |\n",
       "| Director           | 15                 |\n",
       "| Director.FB.Like   | 16                 |\n",
       "| Actor.1.Name       | 17                 |\n",
       "| Actor.1.FB.Like    | 18                 |\n",
       "| Actor.2.Name       | 19                 |\n",
       "| Actor.2.FB.Like    | 20                 |\n",
       "| Actor.3.Name       | 21                 |\n",
       "| Actor.3.FB.Like    | 22                 |\n",
       "| Total.Cast.FB.Like | 23                 |\n",
       "| Movie.FB.Like      | 24                 |\n",
       "| IMDB.Score         | 25                 |\n",
       "| directors_avg_bo   | 26                 |\n",
       "| actor_1_avg_bo     | 27                 |\n",
       "| actor_2_avg_bo     | 28                 |\n",
       "| actor_3_avg_bo     | 29                 |\n",
       "\n"
      ],
      "text/plain": [
       "   colnames(data)     col_index\n",
       "1  id_number           1       \n",
       "2  Title.flag          2       \n",
       "3  movie_name          3       \n",
       "4  year                4       \n",
       "5  budget              5       \n",
       "6  domestic            6       \n",
       "7  international       7       \n",
       "8  rating              8       \n",
       "9  storytype           9       \n",
       "10 source             10       \n",
       "11 production_method  11       \n",
       "12 genre              12       \n",
       "13 sequel             13       \n",
       "14 Release.Date       14       \n",
       "15 Director           15       \n",
       "16 Director.FB.Like   16       \n",
       "17 Actor.1.Name       17       \n",
       "18 Actor.1.FB.Like    18       \n",
       "19 Actor.2.Name       19       \n",
       "20 Actor.2.FB.Like    20       \n",
       "21 Actor.3.Name       21       \n",
       "22 Actor.3.FB.Like    22       \n",
       "23 Total.Cast.FB.Like 23       \n",
       "24 Movie.FB.Like      24       \n",
       "25 IMDB.Score         25       \n",
       "26 directors_avg_bo   26       \n",
       "27 actor_1_avg_bo     27       \n",
       "28 actor_2_avg_bo     28       \n",
       "29 actor_3_avg_bo     29       "
      ]
     },
     "metadata": {},
     "output_type": "display_data"
    }
   ],
   "source": [
    "#return data column with index ID to determine which ones to keep and which ones to remove\n",
    "\n",
    "as.data.frame(colnames(data))%>%\n",
    "    mutate(col_index=c(1:29))"
   ]
  },
  {
   "cell_type": "markdown",
   "metadata": {},
   "source": [
    "### Data Cleaning"
   ]
  },
  {
   "cell_type": "code",
   "execution_count": 136,
   "metadata": {},
   "outputs": [],
   "source": [
    "#convert box office sales to int type\n",
    "\n",
    "data$domestic <- as.numeric(data$domestic)\n",
    "data$international <- as.numeric(data$international)\n",
    "data$directors_avg_bo <- as.numeric(data$directors_avg_bo)\n",
    "data$actor_1_avg_bo <- as.numeric(data$actor_1_avg_bo)\n",
    "data$actor_2_avg_bo <- as.numeric(data$actor_2_avg_bo)\n",
    "data$actor_3_avg_bo <- as.numeric(data$actor_3_avg_bo)"
   ]
  },
  {
   "cell_type": "code",
   "execution_count": 86,
   "metadata": {},
   "outputs": [],
   "source": [
    "#removing columns not needed for analysis (name, faceook likes, IMDB score etc) using the previous results as a guide for the index\n",
    "data<-data[,-c(14:25)]"
   ]
  },
  {
   "cell_type": "code",
   "execution_count": 87,
   "metadata": {},
   "outputs": [
    {
     "data": {
      "text/html": [
       "<ol class=list-inline>\n",
       "\t<li>'id_number'</li>\n",
       "\t<li>'Title flag'</li>\n",
       "\t<li>'movie_name'</li>\n",
       "\t<li>'year'</li>\n",
       "\t<li>'budget'</li>\n",
       "\t<li>'domestic'</li>\n",
       "\t<li>'international'</li>\n",
       "\t<li>'rating'</li>\n",
       "\t<li>'storytype'</li>\n",
       "\t<li>'source'</li>\n",
       "\t<li>'production_method'</li>\n",
       "\t<li>'genre'</li>\n",
       "\t<li>'sequel'</li>\n",
       "\t<li>'directors_avg_bo'</li>\n",
       "\t<li>'actor_1_avg_bo'</li>\n",
       "\t<li>'actor_2_avg_bo'</li>\n",
       "\t<li>'actor_3_avg_bo'</li>\n",
       "</ol>\n"
      ],
      "text/latex": [
       "\\begin{enumerate*}\n",
       "\\item 'id\\_number'\n",
       "\\item 'Title flag'\n",
       "\\item 'movie\\_name'\n",
       "\\item 'year'\n",
       "\\item 'budget'\n",
       "\\item 'domestic'\n",
       "\\item 'international'\n",
       "\\item 'rating'\n",
       "\\item 'storytype'\n",
       "\\item 'source'\n",
       "\\item 'production\\_method'\n",
       "\\item 'genre'\n",
       "\\item 'sequel'\n",
       "\\item 'directors\\_avg\\_bo'\n",
       "\\item 'actor\\_1\\_avg\\_bo'\n",
       "\\item 'actor\\_2\\_avg\\_bo'\n",
       "\\item 'actor\\_3\\_avg\\_bo'\n",
       "\\end{enumerate*}\n"
      ],
      "text/markdown": [
       "1. 'id_number'\n",
       "2. 'Title flag'\n",
       "3. 'movie_name'\n",
       "4. 'year'\n",
       "5. 'budget'\n",
       "6. 'domestic'\n",
       "7. 'international'\n",
       "8. 'rating'\n",
       "9. 'storytype'\n",
       "10. 'source'\n",
       "11. 'production_method'\n",
       "12. 'genre'\n",
       "13. 'sequel'\n",
       "14. 'directors_avg_bo'\n",
       "15. 'actor_1_avg_bo'\n",
       "16. 'actor_2_avg_bo'\n",
       "17. 'actor_3_avg_bo'\n",
       "\n",
       "\n"
      ],
      "text/plain": [
       " [1] \"id_number\"         \"Title flag\"        \"movie_name\"       \n",
       " [4] \"year\"              \"budget\"            \"domestic\"         \n",
       " [7] \"international\"     \"rating\"            \"storytype\"        \n",
       "[10] \"source\"            \"production_method\" \"genre\"            \n",
       "[13] \"sequel\"            \"directors_avg_bo\"  \"actor_1_avg_bo\"   \n",
       "[16] \"actor_2_avg_bo\"    \"actor_3_avg_bo\"   "
      ]
     },
     "metadata": {},
     "output_type": "display_data"
    }
   ],
   "source": [
    "# retrieve the column headers of the cleaned data\n",
    "names(data)"
   ]
  },
  {
   "cell_type": "code",
   "execution_count": 88,
   "metadata": {},
   "outputs": [
    {
     "data": {
      "text/html": [
       "<ol class=list-inline>\n",
       "\t<li>1694</li>\n",
       "\t<li>17</li>\n",
       "</ol>\n"
      ],
      "text/latex": [
       "\\begin{enumerate*}\n",
       "\\item 1694\n",
       "\\item 17\n",
       "\\end{enumerate*}\n"
      ],
      "text/markdown": [
       "1. 1694\n",
       "2. 17\n",
       "\n",
       "\n"
      ],
      "text/plain": [
       "[1] 1694   17"
      ]
     },
     "metadata": {},
     "output_type": "display_data"
    },
    {
     "data": {
      "text/plain": [
       "   id_number           Title flag        movie_name             year     \n",
       " Min.   :    20100   Min.   : 0.00000   Length:1694        Min.   :2006  \n",
       " 1st Qu.: 40137600   1st Qu.: 0.00000   Class :character   1st Qu.:2008  \n",
       " Median :139780100   Median : 0.00000   Mode  :character   Median :2010  \n",
       " Mean   :122416245   Mean   : 0.02715                      Mean   :2011  \n",
       " 3rd Qu.:185157600   3rd Qu.: 0.00000                      3rd Qu.:2014  \n",
       " Max.   :298120100   Max.   :11.00000                      Max.   :2017  \n",
       "                                                                         \n",
       "     budget             domestic         international          rating         \n",
       " Min.   : 10000000   Min.   :     3200   Min.   :3.471e+03   Length:1694       \n",
       " 1st Qu.: 20000000   1st Qu.: 14800725   1st Qu.:1.058e+07   Class :character  \n",
       " Median : 35000000   Median : 38583626   Median :3.904e+07   Mode  :character  \n",
       " Mean   : 54642544   Mean   : 67258922   Mean   :9.900e+07                     \n",
       " 3rd Qu.: 68000000   3rd Qu.: 83504017   3rd Qu.:1.080e+08                     \n",
       " Max.   :425000000   Max.   :936662225   Max.   :2.023e+09                     \n",
       "                     NA's   :41          NA's   :50                            \n",
       "  storytype            source          production_method     genre          \n",
       " Length:1694        Length:1694        Length:1694        Length:1694       \n",
       " Class :character   Class :character   Class :character   Class :character  \n",
       " Mode  :character   Mode  :character   Mode  :character   Mode  :character  \n",
       "                                                                            \n",
       "                                                                            \n",
       "                                                                            \n",
       "                                                                            \n",
       "     sequel       directors_avg_bo    actor_1_avg_bo      actor_2_avg_bo     \n",
       " Min.   :0.0000   Min.   :3.471e+03   Min.   :1.111e+04   Min.   :3.471e+03  \n",
       " 1st Qu.:0.0000   1st Qu.:4.128e+07   1st Qu.:7.950e+07   1st Qu.:4.825e+07  \n",
       " Median :0.0000   Median :9.298e+07   Median :1.580e+08   Median :1.002e+08  \n",
       " Mean   :0.1494   Mean   :1.569e+08   Mean   :1.789e+08   Mean   :1.456e+08  \n",
       " 3rd Qu.:0.0000   3rd Qu.:1.994e+08   3rd Qu.:2.463e+08   3rd Qu.:1.875e+08  \n",
       " Max.   :1.0000   Max.   :2.784e+09   Max.   :1.079e+09   Max.   :1.274e+09  \n",
       "                  NA's   :378         NA's   :363         NA's   :363        \n",
       " actor_3_avg_bo     \n",
       " Min.   :3.471e+03  \n",
       " 1st Qu.:4.118e+07  \n",
       " Median :9.096e+07  \n",
       " Mean   :1.423e+08  \n",
       " 3rd Qu.:1.794e+08  \n",
       " Max.   :2.784e+09  \n",
       " NA's   :363        "
      ]
     },
     "metadata": {},
     "output_type": "display_data"
    }
   ],
   "source": [
    "# review data structure and explore preliminary data \n",
    "dim(data)\n",
    "summary(data)"
   ]
  },
  {
   "cell_type": "code",
   "execution_count": 89,
   "metadata": {},
   "outputs": [
    {
     "data": {
      "text/html": [
       "<ol class=list-inline>\n",
       "\t<li>1254</li>\n",
       "\t<li>17</li>\n",
       "</ol>\n"
      ],
      "text/latex": [
       "\\begin{enumerate*}\n",
       "\\item 1254\n",
       "\\item 17\n",
       "\\end{enumerate*}\n"
      ],
      "text/markdown": [
       "1. 1254\n",
       "2. 17\n",
       "\n",
       "\n"
      ],
      "text/plain": [
       "[1] 1254   17"
      ]
     },
     "metadata": {},
     "output_type": "display_data"
    },
    {
     "data": {
      "text/html": [
       "<ol class=list-inline>\n",
       "\t<li>1254</li>\n",
       "\t<li>17</li>\n",
       "</ol>\n"
      ],
      "text/latex": [
       "\\begin{enumerate*}\n",
       "\\item 1254\n",
       "\\item 17\n",
       "\\end{enumerate*}\n"
      ],
      "text/markdown": [
       "1. 1254\n",
       "2. 17\n",
       "\n",
       "\n"
      ],
      "text/plain": [
       "[1] 1254   17"
      ]
     },
     "metadata": {},
     "output_type": "display_data"
    }
   ],
   "source": [
    "# Removal of rows with missing values and domestic only movies\n",
    "data2<-na.omit(data)\n",
    "data3<-data2 %>% filter(!domestic==0) %>% filter(!international==0)\n",
    "dim(data2) \n",
    "dim(data3)"
   ]
  },
  {
   "cell_type": "code",
   "execution_count": 90,
   "metadata": {},
   "outputs": [],
   "source": [
    "# Consolidating categorical variables & modification of the variable types\n",
    "\n",
    "data3$source<-as.character(data3$source)\n",
    "data3$genre[data3$genre==\"Black Comedy\"] <- \"Comedy\"\n",
    "data3$genre[data3$genre==\"Western\"] <- \"Adventure\"\n",
    "data3$genre[data3$genre==\"Romantic Comedy\"] <- \"Comedy\"\n",
    "data3$genre[data3$genre==\"Horror\"] <- \"Thriller/Horror\"\n",
    "data3$genre[data3$genre==\"Thriller/Suspense\"]<-\"Thriller/Horror\"\n",
    "data3$source[data3$source==\"Religious Text\"]<-\"Fiction Book/Short Story\"\n",
    "data3$rating[data3$rating==\"G\"]<-\"PG\"\n",
    "\n",
    "drama<-c(\"230150100\",\"167200100\",\"116330100\",\"3960100\",\"72450100\",\"22040100\",\"33420100\",\"188570100\",\"144240100\",\"107400100\",\"114270100\",\"226650100\",\"143780100\")\n",
    "comedy<-c(\"189420100\",\"149620100\",\"193530100\",\"2020100\",\"144870100\",\"3130100\",\"4880100\")\n",
    "\n",
    "data3$genre[data3$id_number %in% drama] <- \"Drama\"\n",
    "data3$genre[data3$id_number %in% comedy] <- \"Comedy\""
   ]
  },
  {
   "cell_type": "code",
   "execution_count": 91,
   "metadata": {},
   "outputs": [
    {
     "name": "stdout",
     "output_type": "stream",
     "text": [
      "Observations: 1,254\n",
      "Variables: 17\n",
      "$ id_number         <dbl> 264790100, 200450100, 230490100, 207170100, 20282...\n",
      "$ `Title flag`      <dbl> 0, 0, 0, 0, 0, 0, 0, 0, 0, 0, 0, 0, 0, 0, 0, 0, 0...\n",
      "$ movie_name        <chr> \"Flatliners\", \"Alice Through the Looking Glass\", ...\n",
      "$ year              <dbl> 2017, 2016, 2016, 2016, 2016, 2016, 2016, 2016, 2...\n",
      "$ budget            <dbl> 2.00e+07, 1.70e+08, 2.00e+07, 9.50e+07, 2.50e+08,...\n",
      "$ domestic          <dbl> 16877430, 77042381, 113257297, 26410477, 40808434...\n",
      "$ international     <dbl> 28192226, 200400000, 68200000, 62314623, 74522014...\n",
      "$ rating            <fct> PG-13, PG, R, PG-13, PG-13, PG-13, R, PG-13, PG-1...\n",
      "$ storytype         <fct> Science Fiction, Fantasy, Contemporary Fiction, H...\n",
      "$ source            <fct> Original Screenplay, Fiction Book/Short Story, Or...\n",
      "$ production_method <fct> Live Action, Animation/Live Action, Live Action, ...\n",
      "$ genre             <fct> Thriller/Horror, Adventure, Comedy, Drama, Action...\n",
      "$ sequel            <fct> 1, 1, 0, 0, 1, 0, 0, 0, 1, 0, 0, 1, 0, 0, 1, 0, 1...\n",
      "$ directors_avg_bo  <dbl> 61331412, 172575535, 181457297, 189543763, 666036...\n",
      "$ actor_1_avg_bo    <dbl> 97219463, 318217389, 217505158, 251062110, 458103...\n",
      "$ actor_2_avg_bo    <dbl> 99177544, 746005726, 90957408, 193230618, 4657518...\n",
      "$ actor_3_avg_bo    <dbl> 15036069, 304749652, 394499805, 105334948, 258357...\n"
     ]
    },
    {
     "data": {
      "text/plain": [
       "   id_number           Title flag        movie_name             year     \n",
       " Min.   :    20100   Min.   :0.000000   Length:1254        Min.   :2006  \n",
       " 1st Qu.: 29477600   1st Qu.:0.000000   Class :character   1st Qu.:2008  \n",
       " Median :130165100   Median :0.000000   Mode  :character   Median :2010  \n",
       " Mean   :111122548   Mean   :0.002392                      Mean   :2010  \n",
       " 3rd Qu.:169275100   3rd Qu.:0.000000                      3rd Qu.:2013  \n",
       " Max.   :264790100   Max.   :1.000000                      Max.   :2017  \n",
       "                                                                         \n",
       "     budget             domestic         international         rating   \n",
       " Min.   : 10000000   Min.   :     3200   Min.   :5.778e+03   PG   :224  \n",
       " 1st Qu.: 20000000   1st Qu.: 17191765   1st Qu.:1.131e+07   PG-13:541  \n",
       " Median : 35000000   Median : 40240816   Median :3.904e+07   R    :489  \n",
       " Mean   : 56092783   Mean   : 67740201   Mean   :9.641e+07              \n",
       " 3rd Qu.: 70000000   3rd Qu.: 84902502   3rd Qu.:1.058e+08              \n",
       " Max.   :425000000   Max.   :760507625   Max.   :2.023e+09              \n",
       "                                                                        \n",
       "                storytype                        source   \n",
       " Contemporary Fiction:585   Factual Book/Real Events:134  \n",
       " Dramatization       :140   Fiction Book/Short Story:283  \n",
       " Fantasy             :151   Graphic Novel/Game      : 87  \n",
       " Historical Fiction  :117   Live/Live Adaptation    : 23  \n",
       " Kids Fiction        : 91   Original Screenplay     :612  \n",
       " Science Fiction     :125   Remake                  : 78  \n",
       " Super Hero          : 45   TV                      : 37  \n",
       "             production_method             genre     sequel  \n",
       " Animation            :  79    Action         :183   0:1077  \n",
       " Animation/Live Action:  61    Adventure      :221   1: 177  \n",
       " Live Action          :1114    Comedy         :302           \n",
       "                               Drama          :311           \n",
       "                               Thriller/Horror:237           \n",
       "                                                             \n",
       "                                                             \n",
       " directors_avg_bo    actor_1_avg_bo      actor_2_avg_bo     \n",
       " Min.   :9.481e+04   Min.   :9.481e+04   Min.   :8.779e+04  \n",
       " 1st Qu.:4.555e+07   1st Qu.:8.334e+07   1st Qu.:5.123e+07  \n",
       " Median :9.618e+07   Median :1.610e+08   Median :1.041e+08  \n",
       " Mean   :1.635e+08   Mean   :1.840e+08   Mean   :1.512e+08  \n",
       " 3rd Qu.:2.085e+08   3rd Qu.:2.466e+08   3rd Qu.:1.897e+08  \n",
       " Max.   :2.784e+09   Max.   :1.079e+09   Max.   :1.274e+09  \n",
       "                                                            \n",
       " actor_3_avg_bo     \n",
       " Min.   :8.779e+04  \n",
       " 1st Qu.:4.554e+07  \n",
       " Median :9.765e+07  \n",
       " Mean   :1.483e+08  \n",
       " 3rd Qu.:1.878e+08  \n",
       " Max.   :2.784e+09  \n",
       "                    "
      ]
     },
     "metadata": {},
     "output_type": "display_data"
    }
   ],
   "source": [
    "# assign facotr type to categorical for modeling later\n",
    "\n",
    "data3$rating<-as.factor(data3$rating)\n",
    "data3$storytype<-as.factor(data3$storytype)\n",
    "data3$source<-as.factor(data3$source)\n",
    "data3$production_method<-as.factor(data3$production_method)\n",
    "data3$genre<-as.factor(data3$genre)\n",
    "data3$sequel<-as.factor(data3$sequel)\n",
    "glimpse(data3)\n",
    "\n",
    "#check converted columns\n",
    "summary(data3)"
   ]
  },
  {
   "cell_type": "markdown",
   "metadata": {},
   "source": [
    "### Data Exploration via Descriptive Charts"
   ]
  },
  {
   "cell_type": "code",
   "execution_count": 92,
   "metadata": {},
   "outputs": [],
   "source": [
    "# Exploratory data analysis and data transformation, creating the 6 by 6 frame\n",
    "\n",
    "multiplot <- function(..., plotlist=NULL, file, cols=1, layout=NULL) {\n",
    "  library(grid)\n",
    "  \n",
    "  # Make a list from the ... arguments and plotlist\n",
    "  plots <- c(list(...), plotlist)\n",
    "  \n",
    "  numPlots = length(plots)\n",
    "  \n",
    "  # If layout is NULL, then use 'cols' to determine layout\n",
    "  if (is.null(layout)) {\n",
    "    # Make the panel\n",
    "    # ncol: Number of columns of plots\n",
    "    # nrow: Number of rows needed, calculated from # of cols\n",
    "    layout <- matrix(seq(1, cols * ceiling(numPlots/cols)),\n",
    "                     ncol = cols, nrow = ceiling(numPlots/cols))\n",
    "  }\n",
    "  \n",
    "  if (numPlots==1) {\n",
    "    print(plots[[1]])\n",
    "    \n",
    "  } else {\n",
    "    # Set up the page\n",
    "    grid.newpage()\n",
    "    pushViewport(viewport(layout = grid.layout(nrow(layout), ncol(layout))))\n",
    "    \n",
    "    # Make each plot, in the correct location\n",
    "    for (i in 1:numPlots) {\n",
    "      # Get the i,j matrix positions of the regions that contain this subplot\n",
    "      matchidx <- as.data.frame(which(layout == i, arr.ind = TRUE))\n",
    "      \n",
    "      print(plots[[i]], vp = viewport(layout.pos.row = matchidx$row,\n",
    "                                      layout.pos.col = matchidx$col))\n",
    "    }\n",
    "  }\n",
    "}"
   ]
  },
  {
   "cell_type": "code",
   "execution_count": 93,
   "metadata": {},
   "outputs": [
    {
     "data": {
      "image/png": "[encoded data removed]",
      "text/plain": [
       "plot without title"
      ]
     },
     "metadata": {},
     "output_type": "display_data"
    }
   ],
   "source": [
    "#plotting discriptive bar charts for data set where movies must have both domestic and international box office values\n",
    "#edit x axis ticks to make it shorter\n",
    "data3$source <- gsub(\" \", \"\\n\",data3$source)\n",
    "data3$storytype <- gsub(\" \", \"\\n\",data3$storytype)\n",
    "data3$production_method <- gsub(\" \", \"\\n\",data3$production_method)\n",
    "\n",
    "#define x axis tick format\n",
    "x_axis_label<-theme(legend.position=\"none\", axis.text.x=element_text(angle=90,hjust=1, size = 8))\n",
    "\n",
    "\n",
    "hist_source <-ggplot(data3,aes(x=source,fill = source))+\n",
    "geom_bar() + \n",
    "x_axis_label+\n",
    "scale_fill_hue(l=40, c=80)\n",
    "\n",
    "hist_storytype<-ggplot(data3,aes(x=storytype,fill = storytype))+\n",
    "geom_bar()+\n",
    "x_axis_label+\n",
    "scale_fill_hue(l=40, c=80)\n",
    "\n",
    "hist_rating<-ggplot(data3,aes(x=rating, fill = rating))+\n",
    "geom_bar()+\n",
    "x_axis_label+\n",
    "scale_fill_manual(values=c(\"#999999\", \"#E69F00\", \"#FF6347\"))\n",
    "\n",
    "hist_production_method<-ggplot(data3,aes(x=production_method, fill = production_method))+\n",
    "geom_bar()+\n",
    "x_axis_label+\n",
    "scale_fill_hue(l=40, c=80)\n",
    "\n",
    "hist_genre<-ggplot(data3,aes(x=genre, fill = genre))+\n",
    "geom_bar()+\n",
    "x_axis_label+\n",
    "scale_fill_hue(l=40, c=80)\n",
    "\n",
    "hist_sequel<-ggplot(data3,aes(x=sequel, fill = sequel))+\n",
    "geom_bar()+\n",
    "x_axis_label+\n",
    "scale_fill_hue(l=40, c=80)\n",
    "\n",
    "multiplot(hist_source, hist_storytype, hist_rating, hist_production_method, hist_genre,hist_sequel,cols=2)\n"
   ]
  },
  {
   "cell_type": "code",
   "execution_count": 94,
   "metadata": {},
   "outputs": [
    {
     "data": {
      "image/png": "[encoded data removed]",
      "text/plain": [
       "plot without title"
      ]
     },
     "metadata": {},
     "output_type": "display_data"
    }
   ],
   "source": [
    "# more discriptive plot graphs\n",
    "\n",
    "hist_year<-ggplot(data3,aes(x=year))+geom_histogram(fill = \"#40E0D0\",binwidth = 1)\n",
    "hist_directors<-ggplot(data3,aes(x=directors_avg_bo))+geom_histogram(fill = \"#40E0D0\",binwidth = 5000000)\n",
    "hist_actor_1<-ggplot(data3,aes(x=actor_1_avg_bo))+geom_histogram(fill = \"#40E0D0\",binwidth = 5000000)\n",
    "hist_actor_2<-ggplot(data2,aes(x=actor_2_avg_bo))+geom_histogram(fill = \"#40E0D0\",binwidth = 5000000)\n",
    "hist_actor_3<-ggplot(data2,aes(x=actor_3_avg_bo))+geom_histogram(fill = \"#40E0D0\",binwidth = 5000000)\n",
    "hist_international<-ggplot(data3,aes(x=international))+geom_histogram(fill = \"#40E0D0\",binwidth = 5000000)\n",
    "hist_domestic<-ggplot(data3,aes(x=domestic))+geom_histogram(fill = \"#40E0D0\",binwidth = 5000000)\n",
    "hist_budget<-ggplot(data3,aes(x=budget))+geom_histogram(fill = \"#40E0D0\",binwidth = 5000000)\n",
    "\n",
    "multiplot(hist_year, hist_directors, hist_actor_1, hist_actor_2, hist_actor_3,hist_international,hist_domestic,hist_budget,cols=2)\n",
    "\n",
    "#All of the Box Office data distribution are skewed, and therefore is not fit for analysis in its raw state\n",
    "#Next we will convert it to it's log "
   ]
  },
  {
   "cell_type": "code",
   "execution_count": 95,
   "metadata": {},
   "outputs": [
    {
     "data": {
      "image/png": "[encoded data removed]",
      "text/plain": [
       "plot without title"
      ]
     },
     "metadata": {},
     "output_type": "display_data"
    }
   ],
   "source": [
    "# convert using log\n",
    "hist_ln_directors<-ggplot(data3,aes(x=log(directors_avg_bo)))+geom_histogram(fill = \"#FF8C00\", binwidth = .1)\n",
    "hist_ln_actor_1<-ggplot(data3,aes(x=log(actor_1_avg_bo+0.01)))+geom_histogram(fill = \"#FF8C00\",binwidth = .1)\n",
    "hist_ln_actor_2<-ggplot(data2,aes(x=log(actor_2_avg_bo+0.01)))+geom_histogram(fill = \"#FF8C00\",binwidth = .1)\n",
    "hist_ln_actor_3<-ggplot(data2,aes(x=log(actor_3_avg_bo+0.01)))+geom_histogram(fill = \"#FF8C00\",binwidth = .1)\n",
    "hist_ln_international<-ggplot(data3,aes(x=log(international+0.01)))+geom_histogram(fill = \"#FF8C00\",binwidth = .1)\n",
    "hist_ln_domestic<-ggplot(data3,aes(x=log(domestic+0.01)))+geom_histogram(fill = \"#FF8C00\",binwidth = .1)\n",
    "hist_ln_budget<-ggplot(data3,aes(x=log(budget+0.01)))+geom_histogram(fill = \"#FF8C00\",binwidth = .1)\n",
    "\n",
    "multiplot(hist_ln_directors, hist_ln_actor_1, hist_ln_actor_2, hist_ln_actor_3,hist_ln_international,hist_ln_domestic,hist_ln_budget,cols=2)\n",
    "\n",
    "# Distribution looks more normal now and is ready for analysis"
   ]
  },
  {
   "cell_type": "code",
   "execution_count": 109,
   "metadata": {},
   "outputs": [
    {
     "data": {
      "text/html": [
       "<table>\n",
       "<thead><tr><th scope=col>colnames(data3)</th><th scope=col>col_index</th></tr></thead>\n",
       "<tbody>\n",
       "\t<tr><td>id_number          </td><td> 1                 </td></tr>\n",
       "\t<tr><td>Title flag         </td><td> 2                 </td></tr>\n",
       "\t<tr><td>movie_name         </td><td> 3                 </td></tr>\n",
       "\t<tr><td>year               </td><td> 4                 </td></tr>\n",
       "\t<tr><td>budget             </td><td> 5                 </td></tr>\n",
       "\t<tr><td>domestic           </td><td> 6                 </td></tr>\n",
       "\t<tr><td>international      </td><td> 7                 </td></tr>\n",
       "\t<tr><td>rating             </td><td> 8                 </td></tr>\n",
       "\t<tr><td>storytype          </td><td> 9                 </td></tr>\n",
       "\t<tr><td>source             </td><td>10                 </td></tr>\n",
       "\t<tr><td>production_method  </td><td>11                 </td></tr>\n",
       "\t<tr><td>genre              </td><td>12                 </td></tr>\n",
       "\t<tr><td>sequel             </td><td>13                 </td></tr>\n",
       "\t<tr><td>directors_avg_bo   </td><td>14                 </td></tr>\n",
       "\t<tr><td>actor_1_avg_bo     </td><td>15                 </td></tr>\n",
       "\t<tr><td>actor_2_avg_bo     </td><td>16                 </td></tr>\n",
       "\t<tr><td>actor_3_avg_bo     </td><td>17                 </td></tr>\n",
       "\t<tr><td>ln_budget          </td><td>18                 </td></tr>\n",
       "\t<tr><td>sqrt_budget        </td><td>19                 </td></tr>\n",
       "\t<tr><td>ln_international   </td><td>20                 </td></tr>\n",
       "\t<tr><td>ln_domestic        </td><td>21                 </td></tr>\n",
       "\t<tr><td>ln_directors_avg_bo</td><td>22                 </td></tr>\n",
       "\t<tr><td>ln_actor_1_avg_bo  </td><td>23                 </td></tr>\n",
       "\t<tr><td>ln_actor_2_avg_bo  </td><td>24                 </td></tr>\n",
       "\t<tr><td>ln_actor_3_avg_bo  </td><td>25                 </td></tr>\n",
       "\t<tr><td>ln_sum_actor_avg_bo</td><td>26                 </td></tr>\n",
       "</tbody>\n",
       "</table>\n"
      ],
      "text/latex": [
       "\\begin{tabular}{r|ll}\n",
       " colnames(data3) & col\\_index\\\\\n",
       "\\hline\n",
       "\t id\\_number           &  1                   \\\\\n",
       "\t Title flag          &  2                 \\\\\n",
       "\t movie\\_name          &  3                   \\\\\n",
       "\t year                &  4                 \\\\\n",
       "\t budget              &  5                 \\\\\n",
       "\t domestic            &  6                 \\\\\n",
       "\t international       &  7                 \\\\\n",
       "\t rating              &  8                 \\\\\n",
       "\t storytype           &  9                 \\\\\n",
       "\t source              & 10                 \\\\\n",
       "\t production\\_method   & 11                   \\\\\n",
       "\t genre               & 12                 \\\\\n",
       "\t sequel              & 13                 \\\\\n",
       "\t directors\\_avg\\_bo    & 14                     \\\\\n",
       "\t actor\\_1\\_avg\\_bo      & 15                       \\\\\n",
       "\t actor\\_2\\_avg\\_bo      & 16                       \\\\\n",
       "\t actor\\_3\\_avg\\_bo      & 17                       \\\\\n",
       "\t ln\\_budget           & 18                   \\\\\n",
       "\t sqrt\\_budget         & 19                   \\\\\n",
       "\t ln\\_international    & 20                   \\\\\n",
       "\t ln\\_domestic         & 21                   \\\\\n",
       "\t ln\\_directors\\_avg\\_bo & 22                       \\\\\n",
       "\t ln\\_actor\\_1\\_avg\\_bo   & 23                         \\\\\n",
       "\t ln\\_actor\\_2\\_avg\\_bo   & 24                         \\\\\n",
       "\t ln\\_actor\\_3\\_avg\\_bo   & 25                         \\\\\n",
       "\t ln\\_sum\\_actor\\_avg\\_bo & 26                         \\\\\n",
       "\\end{tabular}\n"
      ],
      "text/markdown": [
       "\n",
       "| colnames(data3) | col_index |\n",
       "|---|---|\n",
       "| id_number           |  1                  |\n",
       "| Title flag          |  2                  |\n",
       "| movie_name          |  3                  |\n",
       "| year                |  4                  |\n",
       "| budget              |  5                  |\n",
       "| domestic            |  6                  |\n",
       "| international       |  7                  |\n",
       "| rating              |  8                  |\n",
       "| storytype           |  9                  |\n",
       "| source              | 10                  |\n",
       "| production_method   | 11                  |\n",
       "| genre               | 12                  |\n",
       "| sequel              | 13                  |\n",
       "| directors_avg_bo    | 14                  |\n",
       "| actor_1_avg_bo      | 15                  |\n",
       "| actor_2_avg_bo      | 16                  |\n",
       "| actor_3_avg_bo      | 17                  |\n",
       "| ln_budget           | 18                  |\n",
       "| sqrt_budget         | 19                  |\n",
       "| ln_international    | 20                  |\n",
       "| ln_domestic         | 21                  |\n",
       "| ln_directors_avg_bo | 22                  |\n",
       "| ln_actor_1_avg_bo   | 23                  |\n",
       "| ln_actor_2_avg_bo   | 24                  |\n",
       "| ln_actor_3_avg_bo   | 25                  |\n",
       "| ln_sum_actor_avg_bo | 26                  |\n",
       "\n"
      ],
      "text/plain": [
       "   colnames(data3)     col_index\n",
       "1  id_number            1       \n",
       "2  Title flag           2       \n",
       "3  movie_name           3       \n",
       "4  year                 4       \n",
       "5  budget               5       \n",
       "6  domestic             6       \n",
       "7  international        7       \n",
       "8  rating               8       \n",
       "9  storytype            9       \n",
       "10 source              10       \n",
       "11 production_method   11       \n",
       "12 genre               12       \n",
       "13 sequel              13       \n",
       "14 directors_avg_bo    14       \n",
       "15 actor_1_avg_bo      15       \n",
       "16 actor_2_avg_bo      16       \n",
       "17 actor_3_avg_bo      17       \n",
       "18 ln_budget           18       \n",
       "19 sqrt_budget         19       \n",
       "20 ln_international    20       \n",
       "21 ln_domestic         21       \n",
       "22 ln_directors_avg_bo 22       \n",
       "23 ln_actor_1_avg_bo   23       \n",
       "24 ln_actor_2_avg_bo   24       \n",
       "25 ln_actor_3_avg_bo   25       \n",
       "26 ln_sum_actor_avg_bo 26       "
      ]
     },
     "metadata": {},
     "output_type": "display_data"
    }
   ],
   "source": [
    "# creat genre and source correlations\n",
    "data3$ln_budget<-log(data3$budget)\n",
    "data3$sqrt_budget<-sqrt(data3$budget)\n",
    "data3$ln_international<-log(data3$international+1)\n",
    "data3$ln_domestic<-log(data3$domestic)\n",
    "data3$ln_directors_avg_bo<-log(data3$directors_avg_bo)\n",
    "data3$ln_actor_1_avg_bo<-log(data3$actor_1_avg_bo)\n",
    "data3$ln_actor_2_avg_bo<-log(data3$actor_2_avg_bo)\n",
    "data3$ln_actor_3_avg_bo<-log(data3$actor_3_avg_bo)\n",
    "data3$ln_sum_actor_avg_bo<-log(data3$actor_1_avg_bo+data3$actor_2_avg_bo+data3$actor_3_avg_bo)\n",
    "\n",
    "#disply columns in order of index\n",
    "as.data.frame(colnames(data3))%>%\n",
    "    mutate(col_index=c(1:26))\n"
   ]
  },
  {
   "cell_type": "code",
   "execution_count": 97,
   "metadata": {},
   "outputs": [
    {
     "data": {
      "image/png": "[encoded data removed]",
      "text/plain": [
       "Plot with title \"\""
      ]
     },
     "metadata": {},
     "output_type": "display_data"
    }
   ],
   "source": [
    "# check for corerations in the numberic columns of data3\n",
    "cor<-cor(data3[,c(\"ln_budget\",\"ln_international\",\"ln_domestic\",\n",
    "                  \"ln_directors_avg_bo\",\"ln_sum_actor_avg_bo\",\"ln_actor_1_avg_bo\",\"ln_actor_2_avg_bo\",\"ln_actor_3_avg_bo\")])\n",
    "\n",
    "#create \n",
    "col <- colorRampPalette(c(\"#BB4444\", \"#EE9988\", \"#FFFFFF\", \"#77AADD\", \"#4477AA\"))\n",
    "corrplot(cor, method=\"color\", col=col(200),  \n",
    "         type=\"upper\", order=\"hclust\", \n",
    "         addCoef.col = \"black\", # Add coefficient of correlation\n",
    "         tl.col=\"black\", tl.srt=45, #Text label color and rotation\n",
    "         sig.level = 0.01, insig = \"blank\",\n",
    "         # hide correlation coefficient on the principal diagonal\n",
    "         diag=FALSE \n",
    "         )\n",
    "\n",
    "#looks like the variables are all some what correlated to each other"
   ]
  },
  {
   "cell_type": "code",
   "execution_count": 98,
   "metadata": {},
   "outputs": [
    {
     "data": {
      "image/png": "[encoded data removed]",
      "text/plain": [
       "plot without title"
      ]
     },
     "metadata": {},
     "output_type": "display_data"
    }
   ],
   "source": [
    "#scatter plot of genre categories on log_box office and log_budget\n",
    "ggplot(data3,aes(x=ln_budget,y=log(international+domestic),color=genre))+geom_point(alpha=0.5,position=\"jitter\")+geom_abline(slope=1,intercept=0)\n"
   ]
  },
  {
   "cell_type": "code",
   "execution_count": 99,
   "metadata": {},
   "outputs": [
    {
     "data": {
      "image/png": "[encoded data removed]",
      "text/plain": [
       "plot without title"
      ]
     },
     "metadata": {},
     "output_type": "display_data"
    }
   ],
   "source": [
    "#horizontal bar chart with source quanity ratio per genre categories \n",
    "ggplot(data3,aes(x=genre,fill=source))+geom_bar(position=\"fill\")"
   ]
  },
  {
   "cell_type": "markdown",
   "metadata": {},
   "source": [
    "### Regresion Analysis"
   ]
  },
  {
   "cell_type": "code",
   "execution_count": 110,
   "metadata": {},
   "outputs": [
    {
     "data": {
      "text/plain": [
       "Response ln_international :\n",
       "\n",
       "Call:\n",
       "lm(formula = ln_international ~ ln_budget + rating + storytype + \n",
       "    source + production_method + genre + sequel + ln_directors_avg_bo + \n",
       "    ln_sum_actor_avg_bo, data = data3)\n",
       "\n",
       "Residuals:\n",
       "    Min      1Q  Median      3Q     Max \n",
       "-6.7210 -0.3969  0.1740  0.6173  3.4251 \n",
       "\n",
       "Coefficients:\n",
       "                                         Estimate Std. Error t value Pr(>|t|)\n",
       "(Intercept)                             -14.67570    1.03173 -14.224  < 2e-16\n",
       "ln_budget                                 0.47887    0.05870   8.158 8.35e-16\n",
       "ratingPG-13                               0.38921    0.11740   3.315 0.000943\n",
       "ratingR                                   0.42574    0.12214   3.486 0.000508\n",
       "storytypeDramatization                   -0.20131    0.19952  -1.009 0.313182\n",
       "storytypeFantasy                          0.20184    0.11153   1.810 0.070574\n",
       "storytypeHistorical\\nFiction             -0.19349    0.11993  -1.613 0.106927\n",
       "storytypeKids\\nFiction                    0.25900    0.21312   1.215 0.224499\n",
       "storytypeScience\\nFiction                 0.14985    0.11609   1.291 0.197013\n",
       "storytypeSuper\\nHero                     -0.06808    0.22299  -0.305 0.760199\n",
       "sourceFiction\\nBook/Short\\nStory          0.25737    0.19376   1.328 0.184325\n",
       "sourceGraphic\\nNovel/Game                 0.01834    0.24848   0.074 0.941180\n",
       "sourceLive/Live\\nAdaptation              -0.39112    0.29246  -1.337 0.181362\n",
       "sourceOriginal\\nScreenplay                0.08022    0.20175   0.398 0.690973\n",
       "sourceRemake                              0.11364    0.23242   0.489 0.624962\n",
       "sourceTV                                 -0.02219    0.27155  -0.082 0.934895\n",
       "production_methodAnimation/Live\\nAction  -0.19415    0.21927  -0.885 0.376092\n",
       "production_methodLive\\nAction            -0.19578    0.20891  -0.937 0.348867\n",
       "genreAdventure                           -0.09110    0.14121  -0.645 0.518983\n",
       "genreComedy                              -0.26875    0.11998  -2.240 0.025272\n",
       "genreDrama                               -0.20137    0.12620  -1.596 0.110811\n",
       "genreThriller/Horror                      0.12013    0.11918   1.008 0.313678\n",
       "sequel1                                   0.18403    0.09612   1.915 0.055775\n",
       "ln_directors_avg_bo                       0.67521    0.03382  19.965  < 2e-16\n",
       "ln_sum_actor_avg_bo                       0.55645    0.04425  12.576  < 2e-16\n",
       "                                           \n",
       "(Intercept)                             ***\n",
       "ln_budget                               ***\n",
       "ratingPG-13                             ***\n",
       "ratingR                                 ***\n",
       "storytypeDramatization                     \n",
       "storytypeFantasy                        .  \n",
       "storytypeHistorical\\nFiction               \n",
       "storytypeKids\\nFiction                     \n",
       "storytypeScience\\nFiction                  \n",
       "storytypeSuper\\nHero                       \n",
       "sourceFiction\\nBook/Short\\nStory           \n",
       "sourceGraphic\\nNovel/Game                  \n",
       "sourceLive/Live\\nAdaptation                \n",
       "sourceOriginal\\nScreenplay                 \n",
       "sourceRemake                               \n",
       "sourceTV                                   \n",
       "production_methodAnimation/Live\\nAction    \n",
       "production_methodLive\\nAction              \n",
       "genreAdventure                             \n",
       "genreComedy                             *  \n",
       "genreDrama                                 \n",
       "genreThriller/Horror                       \n",
       "sequel1                                 .  \n",
       "ln_directors_avg_bo                     ***\n",
       "ln_sum_actor_avg_bo                     ***\n",
       "---\n",
       "Signif. codes:  0 '***' 0.001 '**' 0.01 '*' 0.05 '.' 0.1 ' ' 1\n",
       "\n",
       "Residual standard error: 1.092 on 1229 degrees of freedom\n",
       "Multiple R-squared:  0.704,\tAdjusted R-squared:  0.6982 \n",
       "F-statistic: 121.8 on 24 and 1229 DF,  p-value: < 2.2e-16\n",
       "\n",
       "\n",
       "Response ln_domestic :\n",
       "\n",
       "Call:\n",
       "lm(formula = ln_domestic ~ ln_budget + rating + storytype + source + \n",
       "    production_method + genre + sequel + ln_directors_avg_bo + \n",
       "    ln_sum_actor_avg_bo, data = data3)\n",
       "\n",
       "Residuals:\n",
       "    Min      1Q  Median      3Q     Max \n",
       "-8.6266 -0.3334  0.1219  0.5514  2.0919 \n",
       "\n",
       "Coefficients:\n",
       "                                         Estimate Std. Error t value Pr(>|t|)\n",
       "(Intercept)                             -6.087823   0.896150  -6.793 1.70e-11\n",
       "ln_budget                                0.094233   0.050986   1.848  0.06481\n",
       "ratingPG-13                             -0.053611   0.101976  -0.526  0.59918\n",
       "ratingR                                 -0.381189   0.106090  -3.593  0.00034\n",
       "storytypeDramatization                  -0.151937   0.173303  -0.877  0.38081\n",
       "storytypeFantasy                        -0.025709   0.096874  -0.265  0.79076\n",
       "storytypeHistorical\\nFiction            -0.177480   0.104170  -1.704  0.08868\n",
       "storytypeKids\\nFiction                  -0.005114   0.185118  -0.028  0.97796\n",
       "storytypeScience\\nFiction                0.002249   0.100836   0.022  0.98221\n",
       "storytypeSuper\\nHero                     0.225843   0.193687   1.166  0.24383\n",
       "sourceFiction\\nBook/Short\\nStory        -0.104901   0.168295  -0.623  0.53319\n",
       "sourceGraphic\\nNovel/Game               -0.083621   0.215826  -0.387  0.69849\n",
       "sourceLive/Live\\nAdaptation             -0.249339   0.254029  -0.982  0.32652\n",
       "sourceOriginal\\nScreenplay              -0.101707   0.175235  -0.580  0.56175\n",
       "sourceRemake                             0.219444   0.201880   1.087  0.27725\n",
       "sourceTV                                 0.038321   0.235866   0.162  0.87096\n",
       "production_methodAnimation/Live\\nAction -0.071121   0.190453  -0.373  0.70889\n",
       "production_methodLive\\nAction            0.109944   0.181457   0.606  0.54470\n",
       "genreAdventure                           0.086422   0.122657   0.705  0.48120\n",
       "genreComedy                              0.481951   0.104213   4.625 4.15e-06\n",
       "genreDrama                               0.162086   0.109613   1.479  0.13947\n",
       "genreThriller/Horror                     0.250050   0.103518   2.416  0.01586\n",
       "sequel1                                  0.191714   0.083486   2.296  0.02182\n",
       "ln_directors_avg_bo                      0.716304   0.029376  24.384  < 2e-16\n",
       "ln_sum_actor_avg_bo                      0.433928   0.038432  11.291  < 2e-16\n",
       "                                           \n",
       "(Intercept)                             ***\n",
       "ln_budget                               .  \n",
       "ratingPG-13                                \n",
       "ratingR                                 ***\n",
       "storytypeDramatization                     \n",
       "storytypeFantasy                           \n",
       "storytypeHistorical\\nFiction            .  \n",
       "storytypeKids\\nFiction                     \n",
       "storytypeScience\\nFiction                  \n",
       "storytypeSuper\\nHero                       \n",
       "sourceFiction\\nBook/Short\\nStory           \n",
       "sourceGraphic\\nNovel/Game                  \n",
       "sourceLive/Live\\nAdaptation                \n",
       "sourceOriginal\\nScreenplay                 \n",
       "sourceRemake                               \n",
       "sourceTV                                   \n",
       "production_methodAnimation/Live\\nAction    \n",
       "production_methodLive\\nAction              \n",
       "genreAdventure                             \n",
       "genreComedy                             ***\n",
       "genreDrama                                 \n",
       "genreThriller/Horror                    *  \n",
       "sequel1                                 *  \n",
       "ln_directors_avg_bo                     ***\n",
       "ln_sum_actor_avg_bo                     ***\n",
       "---\n",
       "Signif. codes:  0 '***' 0.001 '**' 0.01 '*' 0.05 '.' 0.1 ' ' 1\n",
       "\n",
       "Residual standard error: 0.9484 on 1229 degrees of freedom\n",
       "Multiple R-squared:  0.6709,\tAdjusted R-squared:  0.6645 \n",
       "F-statistic: 104.4 on 24 and 1229 DF,  p-value: < 2.2e-16\n",
       "\n"
      ]
     },
     "metadata": {},
     "output_type": "display_data"
    }
   ],
   "source": [
    "# Multivariate linear regression where the dependent varaibles are log international and log domestic box office\n",
    "\n",
    "#convert these variables to factor as it was altered in earlier graphing steps\n",
    "data3$storytype<-as.factor(data3$storytype)\n",
    "data3$source<-as.factor(data3$source)\n",
    "data3$production_method<-as.factor(data3$production_method)\n",
    "\n",
    "m1<-\n",
    "lm(cbind(ln_international,ln_domestic)~ln_budget+rating+storytype+source+production_method+genre+sequel+\n",
    "   ln_directors_avg_bo+ln_sum_actor_avg_bo,data=data3)\n",
    "summary(m1)"
   ]
  },
  {
   "cell_type": "code",
   "execution_count": 112,
   "metadata": {},
   "outputs": [
    {
     "data": {
      "text/html": [
       "<table>\n",
       "<thead><tr><th></th><th scope=col>Df</th><th scope=col>Pillai</th><th scope=col>approx F</th><th scope=col>num Df</th><th scope=col>den Df</th><th scope=col>Pr(&gt;F)</th></tr></thead>\n",
       "<tbody>\n",
       "\t<tr><th scope=row>(Intercept)</th><td>   1         </td><td>0.998121998  </td><td>3.263291e+05 </td><td> 2           </td><td>1228         </td><td> 0.000000e+00</td></tr>\n",
       "\t<tr><th scope=row>ln_budget</th><td>   1         </td><td>0.694180564  </td><td>1.393721e+03 </td><td> 2           </td><td>1228         </td><td>1.190039e-316</td></tr>\n",
       "\t<tr><th scope=row>rating</th><td>   2         </td><td>0.049331404  </td><td>1.554039e+01 </td><td> 4           </td><td>2458         </td><td> 1.463484e-12</td></tr>\n",
       "\t<tr><th scope=row>storytype</th><td>   6         </td><td>0.073430885  </td><td>7.807191e+00 </td><td>12           </td><td>2458         </td><td> 1.906850e-14</td></tr>\n",
       "\t<tr><th scope=row>source</th><td>   6         </td><td>0.043427210  </td><td>4.546389e+00 </td><td>12           </td><td>2458         </td><td> 2.655623e-07</td></tr>\n",
       "\t<tr><th scope=row>production_method</th><td>   2         </td><td>0.005688379  </td><td>1.752740e+00 </td><td> 4           </td><td>2458         </td><td> 1.356862e-01</td></tr>\n",
       "\t<tr><th scope=row>genre</th><td>   4         </td><td>0.059267140  </td><td>9.382965e+00 </td><td> 8           </td><td>2458         </td><td> 7.711681e-13</td></tr>\n",
       "\t<tr><th scope=row>sequel</th><td>   1         </td><td>0.038087895  </td><td>2.431196e+01 </td><td> 2           </td><td>1228         </td><td> 4.417021e-11</td></tr>\n",
       "\t<tr><th scope=row>ln_directors_avg_bo</th><td>   1         </td><td>0.554278713  </td><td>7.635425e+02 </td><td> 2           </td><td>1228         </td><td>3.348982e-216</td></tr>\n",
       "\t<tr><th scope=row>ln_sum_actor_avg_bo</th><td>   1         </td><td>0.173093059  </td><td>1.285261e+02 </td><td> 2           </td><td>1228         </td><td> 2.081495e-51</td></tr>\n",
       "\t<tr><th scope=row>Residuals</th><td>1229         </td><td>         NA  </td><td>          NA </td><td>NA           </td><td>  NA         </td><td>           NA</td></tr>\n",
       "</tbody>\n",
       "</table>\n"
      ],
      "text/latex": [
       "\\begin{tabular}{r|llllll}\n",
       "  & Df & Pillai & approx F & num Df & den Df & Pr(>F)\\\\\n",
       "\\hline\n",
       "\t(Intercept) &    1          & 0.998121998   & 3.263291e+05  &  2            & 1228          &  0.000000e+00\\\\\n",
       "\tln\\_budget &    1          & 0.694180564   & 1.393721e+03  &  2            & 1228          & 1.190039e-316\\\\\n",
       "\trating &    2          & 0.049331404   & 1.554039e+01  &  4            & 2458          &  1.463484e-12\\\\\n",
       "\tstorytype &    6          & 0.073430885   & 7.807191e+00  & 12            & 2458          &  1.906850e-14\\\\\n",
       "\tsource &    6          & 0.043427210   & 4.546389e+00  & 12            & 2458          &  2.655623e-07\\\\\n",
       "\tproduction\\_method &    2          & 0.005688379   & 1.752740e+00  &  4            & 2458          &  1.356862e-01\\\\\n",
       "\tgenre &    4          & 0.059267140   & 9.382965e+00  &  8            & 2458          &  7.711681e-13\\\\\n",
       "\tsequel &    1          & 0.038087895   & 2.431196e+01  &  2            & 1228          &  4.417021e-11\\\\\n",
       "\tln\\_directors\\_avg\\_bo &    1          & 0.554278713   & 7.635425e+02  &  2            & 1228          & 3.348982e-216\\\\\n",
       "\tln\\_sum\\_actor\\_avg\\_bo &    1          & 0.173093059   & 1.285261e+02  &  2            & 1228          &  2.081495e-51\\\\\n",
       "\tResiduals & 1229          &          NA   &           NA  & NA            &   NA          &            NA\\\\\n",
       "\\end{tabular}\n"
      ],
      "text/markdown": [
       "\n",
       "| <!--/--> | Df | Pillai | approx F | num Df | den Df | Pr(>F) |\n",
       "|---|---|---|---|---|---|---|\n",
       "| (Intercept) |    1          | 0.998121998   | 3.263291e+05  |  2            | 1228          |  0.000000e+00 |\n",
       "| ln_budget |    1          | 0.694180564   | 1.393721e+03  |  2            | 1228          | 1.190039e-316 |\n",
       "| rating |    2          | 0.049331404   | 1.554039e+01  |  4            | 2458          |  1.463484e-12 |\n",
       "| storytype |    6          | 0.073430885   | 7.807191e+00  | 12            | 2458          |  1.906850e-14 |\n",
       "| source |    6          | 0.043427210   | 4.546389e+00  | 12            | 2458          |  2.655623e-07 |\n",
       "| production_method |    2          | 0.005688379   | 1.752740e+00  |  4            | 2458          |  1.356862e-01 |\n",
       "| genre |    4          | 0.059267140   | 9.382965e+00  |  8            | 2458          |  7.711681e-13 |\n",
       "| sequel |    1          | 0.038087895   | 2.431196e+01  |  2            | 1228          |  4.417021e-11 |\n",
       "| ln_directors_avg_bo |    1          | 0.554278713   | 7.635425e+02  |  2            | 1228          | 3.348982e-216 |\n",
       "| ln_sum_actor_avg_bo |    1          | 0.173093059   | 1.285261e+02  |  2            | 1228          |  2.081495e-51 |\n",
       "| Residuals | 1229          |          NA   |           NA  | NA            |   NA          |            NA |\n",
       "\n"
      ],
      "text/plain": [
       "                    Df   Pillai      approx F     num Df den Df Pr(>F)       \n",
       "(Intercept)            1 0.998121998 3.263291e+05  2     1228    0.000000e+00\n",
       "ln_budget              1 0.694180564 1.393721e+03  2     1228   1.190039e-316\n",
       "rating                 2 0.049331404 1.554039e+01  4     2458    1.463484e-12\n",
       "storytype              6 0.073430885 7.807191e+00 12     2458    1.906850e-14\n",
       "source                 6 0.043427210 4.546389e+00 12     2458    2.655623e-07\n",
       "production_method      2 0.005688379 1.752740e+00  4     2458    1.356862e-01\n",
       "genre                  4 0.059267140 9.382965e+00  8     2458    7.711681e-13\n",
       "sequel                 1 0.038087895 2.431196e+01  2     1228    4.417021e-11\n",
       "ln_directors_avg_bo    1 0.554278713 7.635425e+02  2     1228   3.348982e-216\n",
       "ln_sum_actor_avg_bo    1 0.173093059 1.285261e+02  2     1228    2.081495e-51\n",
       "Residuals           1229          NA           NA NA       NA              NA"
      ]
     },
     "metadata": {},
     "output_type": "display_data"
    }
   ],
   "source": [
    "#Run anova on m1 to review model fit\n",
    "\n",
    "anova(m1)\n",
    "\n",
    "#doesn't look very good except for log director's average box office and log sum of actor's average box office"
   ]
  },
  {
   "cell_type": "code",
   "execution_count": 113,
   "metadata": {},
   "outputs": [],
   "source": [
    "# regression 2 removing a few independent variables\n",
    "m2<-\n",
    "lm(cbind(ln_international,ln_domestic)~ln_budget+rating+source+genre+\n",
    "   ln_directors_avg_bo+ln_sum_actor_avg_bo,data=data3) # take out storytype, sequel, production method, title_flag\n"
   ]
  },
  {
   "cell_type": "code",
   "execution_count": 103,
   "metadata": {},
   "outputs": [
    {
     "data": {
      "text/html": [
       "<table>\n",
       "<thead><tr><th></th><th scope=col>Df</th><th scope=col>Pillai</th><th scope=col>approx F</th><th scope=col>num Df</th><th scope=col>den Df</th><th scope=col>Pr(&gt;F)</th></tr></thead>\n",
       "<tbody>\n",
       "\t<tr><th scope=row>(Intercept)</th><td>   1         </td><td>0.99809377   </td><td>3.238443e+05 </td><td> 2           </td><td>1237         </td><td> 0.000000e+00</td></tr>\n",
       "\t<tr><th scope=row>ln_budget</th><td>   1         </td><td>0.69083893   </td><td>1.382075e+03 </td><td> 2           </td><td>1237         </td><td>4.778571e-316</td></tr>\n",
       "\t<tr><th scope=row>rating</th><td>   2         </td><td>0.04890388   </td><td>1.551513e+01 </td><td> 4           </td><td>2476         </td><td> 1.531089e-12</td></tr>\n",
       "\t<tr><th scope=row>source</th><td>   6         </td><td>0.04391360   </td><td>4.632126e+00 </td><td>12           </td><td>2476         </td><td> 1.750033e-07</td></tr>\n",
       "\t<tr><th scope=row>genre</th><td>   4         </td><td>0.08305599   </td><td>1.340980e+01 </td><td> 8           </td><td>2476         </td><td> 3.775373e-19</td></tr>\n",
       "\t<tr><th scope=row>ln_directors_avg_bo</th><td>   1         </td><td>0.56270029   </td><td>7.958618e+02 </td><td> 2           </td><td>1237         </td><td>6.636375e-223</td></tr>\n",
       "\t<tr><th scope=row>ln_sum_actor_avg_bo</th><td>   1         </td><td>0.17702191   </td><td>1.330388e+02 </td><td> 2           </td><td>1237         </td><td> 4.652062e-53</td></tr>\n",
       "\t<tr><th scope=row>Residuals</th><td>1238         </td><td>        NA   </td><td>          NA </td><td>NA           </td><td>  NA         </td><td>           NA</td></tr>\n",
       "</tbody>\n",
       "</table>\n"
      ],
      "text/latex": [
       "\\begin{tabular}{r|llllll}\n",
       "  & Df & Pillai & approx F & num Df & den Df & Pr(>F)\\\\\n",
       "\\hline\n",
       "\t(Intercept) &    1          & 0.99809377    & 3.238443e+05  &  2            & 1237          &  0.000000e+00\\\\\n",
       "\tln\\_budget &    1          & 0.69083893    & 1.382075e+03  &  2            & 1237          & 4.778571e-316\\\\\n",
       "\trating &    2          & 0.04890388    & 1.551513e+01  &  4            & 2476          &  1.531089e-12\\\\\n",
       "\tsource &    6          & 0.04391360    & 4.632126e+00  & 12            & 2476          &  1.750033e-07\\\\\n",
       "\tgenre &    4          & 0.08305599    & 1.340980e+01  &  8            & 2476          &  3.775373e-19\\\\\n",
       "\tln\\_directors\\_avg\\_bo &    1          & 0.56270029    & 7.958618e+02  &  2            & 1237          & 6.636375e-223\\\\\n",
       "\tln\\_sum\\_actor\\_avg\\_bo &    1          & 0.17702191    & 1.330388e+02  &  2            & 1237          &  4.652062e-53\\\\\n",
       "\tResiduals & 1238          &         NA    &           NA  & NA            &   NA          &            NA\\\\\n",
       "\\end{tabular}\n"
      ],
      "text/markdown": [
       "\n",
       "| <!--/--> | Df | Pillai | approx F | num Df | den Df | Pr(>F) |\n",
       "|---|---|---|---|---|---|---|\n",
       "| (Intercept) |    1          | 0.99809377    | 3.238443e+05  |  2            | 1237          |  0.000000e+00 |\n",
       "| ln_budget |    1          | 0.69083893    | 1.382075e+03  |  2            | 1237          | 4.778571e-316 |\n",
       "| rating |    2          | 0.04890388    | 1.551513e+01  |  4            | 2476          |  1.531089e-12 |\n",
       "| source |    6          | 0.04391360    | 4.632126e+00  | 12            | 2476          |  1.750033e-07 |\n",
       "| genre |    4          | 0.08305599    | 1.340980e+01  |  8            | 2476          |  3.775373e-19 |\n",
       "| ln_directors_avg_bo |    1          | 0.56270029    | 7.958618e+02  |  2            | 1237          | 6.636375e-223 |\n",
       "| ln_sum_actor_avg_bo |    1          | 0.17702191    | 1.330388e+02  |  2            | 1237          |  4.652062e-53 |\n",
       "| Residuals | 1238          |         NA    |           NA  | NA            |   NA          |            NA |\n",
       "\n"
      ],
      "text/plain": [
       "                    Df   Pillai     approx F     num Df den Df Pr(>F)       \n",
       "(Intercept)            1 0.99809377 3.238443e+05  2     1237    0.000000e+00\n",
       "ln_budget              1 0.69083893 1.382075e+03  2     1237   4.778571e-316\n",
       "rating                 2 0.04890388 1.551513e+01  4     2476    1.531089e-12\n",
       "source                 6 0.04391360 4.632126e+00 12     2476    1.750033e-07\n",
       "genre                  4 0.08305599 1.340980e+01  8     2476    3.775373e-19\n",
       "ln_directors_avg_bo    1 0.56270029 7.958618e+02  2     1237   6.636375e-223\n",
       "ln_sum_actor_avg_bo    1 0.17702191 1.330388e+02  2     1237    4.652062e-53\n",
       "Residuals           1238         NA           NA NA       NA              NA"
      ]
     },
     "metadata": {},
     "output_type": "display_data"
    }
   ],
   "source": [
    "anova(m2)\n",
    "\n",
    "# Looks like a better fit now"
   ]
  },
  {
   "cell_type": "code",
   "execution_count": 114,
   "metadata": {},
   "outputs": [
    {
     "data": {
      "text/html": [
       "<table>\n",
       "<thead><tr><th scope=col>Res.Df</th><th scope=col>Df</th><th scope=col>Gen.var.</th><th scope=col>Pillai</th><th scope=col>approx F</th><th scope=col>num Df</th><th scope=col>den Df</th><th scope=col>Pr(&gt;F)</th></tr></thead>\n",
       "<tbody>\n",
       "\t<tr><td>1229      </td><td>NA        </td><td>1.029058  </td><td>        NA</td><td>     NA   </td><td>NA        </td><td>  NA      </td><td>        NA</td></tr>\n",
       "\t<tr><td>1238      </td><td> 9        </td><td>1.033573  </td><td>0.02319578</td><td>1.60234   </td><td>18        </td><td>2458      </td><td>0.05129708</td></tr>\n",
       "</tbody>\n",
       "</table>\n"
      ],
      "text/latex": [
       "\\begin{tabular}{r|llllllll}\n",
       " Res.Df & Df & Gen.var. & Pillai & approx F & num Df & den Df & Pr(>F)\\\\\n",
       "\\hline\n",
       "\t 1229       & NA         & 1.029058   &         NA &      NA    & NA         &   NA       &         NA\\\\\n",
       "\t 1238       &  9         & 1.033573   & 0.02319578 & 1.60234    & 18         & 2458       & 0.05129708\\\\\n",
       "\\end{tabular}\n"
      ],
      "text/markdown": [
       "\n",
       "| Res.Df | Df | Gen.var. | Pillai | approx F | num Df | den Df | Pr(>F) |\n",
       "|---|---|---|---|---|---|---|---|\n",
       "| 1229       | NA         | 1.029058   |         NA |      NA    | NA         |   NA       |         NA |\n",
       "| 1238       |  9         | 1.033573   | 0.02319578 | 1.60234    | 18         | 2458       | 0.05129708 |\n",
       "\n"
      ],
      "text/plain": [
       "  Res.Df Df Gen.var. Pillai     approx F num Df den Df Pr(>F)    \n",
       "1 1229   NA 1.029058         NA      NA  NA       NA           NA\n",
       "2 1238    9 1.033573 0.02319578 1.60234  18     2458   0.05129708"
      ]
     },
     "metadata": {},
     "output_type": "display_data"
    },
    {
     "data": {
      "text/html": [
       "<table>\n",
       "<thead><tr><th></th><th scope=col>Df</th><th scope=col>Wilks</th><th scope=col>approx F</th><th scope=col>num Df</th><th scope=col>den Df</th><th scope=col>Pr(&gt;F)</th></tr></thead>\n",
       "<tbody>\n",
       "\t<tr><th scope=row>(Intercept)</th><td>   1         </td><td>0.001906228  </td><td>3.238443e+05 </td><td> 2           </td><td>1237         </td><td> 0.000000e+00</td></tr>\n",
       "\t<tr><th scope=row>ln_budget</th><td>   1         </td><td>0.309161068  </td><td>1.382075e+03 </td><td> 2           </td><td>1237         </td><td>4.778571e-316</td></tr>\n",
       "\t<tr><th scope=row>rating</th><td>   2         </td><td>0.951198944  </td><td>1.566756e+01 </td><td> 4           </td><td>2474         </td><td> 1.148117e-12</td></tr>\n",
       "\t<tr><th scope=row>source</th><td>   6         </td><td>0.956503894  </td><td>4.635504e+00 </td><td>12           </td><td>2474         </td><td> 1.721852e-07</td></tr>\n",
       "\t<tr><th scope=row>genre</th><td>   4         </td><td>0.918653733  </td><td>1.340157e+01 </td><td> 8           </td><td>2474         </td><td> 3.892656e-19</td></tr>\n",
       "\t<tr><th scope=row>ln_directors_avg_bo</th><td>   1         </td><td>0.437299714  </td><td>7.958618e+02 </td><td> 2           </td><td>1237         </td><td>6.636375e-223</td></tr>\n",
       "\t<tr><th scope=row>ln_sum_actor_avg_bo</th><td>   1         </td><td>0.822978085  </td><td>1.330388e+02 </td><td> 2           </td><td>1237         </td><td> 4.652062e-53</td></tr>\n",
       "\t<tr><th scope=row>Residuals</th><td>1238         </td><td>         NA  </td><td>          NA </td><td>NA           </td><td>  NA         </td><td>           NA</td></tr>\n",
       "</tbody>\n",
       "</table>\n"
      ],
      "text/latex": [
       "\\begin{tabular}{r|llllll}\n",
       "  & Df & Wilks & approx F & num Df & den Df & Pr(>F)\\\\\n",
       "\\hline\n",
       "\t(Intercept) &    1          & 0.001906228   & 3.238443e+05  &  2            & 1237          &  0.000000e+00\\\\\n",
       "\tln\\_budget &    1          & 0.309161068   & 1.382075e+03  &  2            & 1237          & 4.778571e-316\\\\\n",
       "\trating &    2          & 0.951198944   & 1.566756e+01  &  4            & 2474          &  1.148117e-12\\\\\n",
       "\tsource &    6          & 0.956503894   & 4.635504e+00  & 12            & 2474          &  1.721852e-07\\\\\n",
       "\tgenre &    4          & 0.918653733   & 1.340157e+01  &  8            & 2474          &  3.892656e-19\\\\\n",
       "\tln\\_directors\\_avg\\_bo &    1          & 0.437299714   & 7.958618e+02  &  2            & 1237          & 6.636375e-223\\\\\n",
       "\tln\\_sum\\_actor\\_avg\\_bo &    1          & 0.822978085   & 1.330388e+02  &  2            & 1237          &  4.652062e-53\\\\\n",
       "\tResiduals & 1238          &          NA   &           NA  & NA            &   NA          &            NA\\\\\n",
       "\\end{tabular}\n"
      ],
      "text/markdown": [
       "\n",
       "| <!--/--> | Df | Wilks | approx F | num Df | den Df | Pr(>F) |\n",
       "|---|---|---|---|---|---|---|\n",
       "| (Intercept) |    1          | 0.001906228   | 3.238443e+05  |  2            | 1237          |  0.000000e+00 |\n",
       "| ln_budget |    1          | 0.309161068   | 1.382075e+03  |  2            | 1237          | 4.778571e-316 |\n",
       "| rating |    2          | 0.951198944   | 1.566756e+01  |  4            | 2474          |  1.148117e-12 |\n",
       "| source |    6          | 0.956503894   | 4.635504e+00  | 12            | 2474          |  1.721852e-07 |\n",
       "| genre |    4          | 0.918653733   | 1.340157e+01  |  8            | 2474          |  3.892656e-19 |\n",
       "| ln_directors_avg_bo |    1          | 0.437299714   | 7.958618e+02  |  2            | 1237          | 6.636375e-223 |\n",
       "| ln_sum_actor_avg_bo |    1          | 0.822978085   | 1.330388e+02  |  2            | 1237          |  4.652062e-53 |\n",
       "| Residuals | 1238          |          NA   |           NA  | NA            |   NA          |            NA |\n",
       "\n"
      ],
      "text/plain": [
       "                    Df   Wilks       approx F     num Df den Df Pr(>F)       \n",
       "(Intercept)            1 0.001906228 3.238443e+05  2     1237    0.000000e+00\n",
       "ln_budget              1 0.309161068 1.382075e+03  2     1237   4.778571e-316\n",
       "rating                 2 0.951198944 1.566756e+01  4     2474    1.148117e-12\n",
       "source                 6 0.956503894 4.635504e+00 12     2474    1.721852e-07\n",
       "genre                  4 0.918653733 1.340157e+01  8     2474    3.892656e-19\n",
       "ln_directors_avg_bo    1 0.437299714 7.958618e+02  2     1237   6.636375e-223\n",
       "ln_sum_actor_avg_bo    1 0.822978085 1.330388e+02  2     1237    4.652062e-53\n",
       "Residuals           1238          NA           NA NA       NA              NA"
      ]
     },
     "metadata": {},
     "output_type": "display_data"
    },
    {
     "data": {
      "text/html": [
       "<table>\n",
       "<thead><tr><th></th><th scope=col>Df</th><th scope=col>Pillai</th><th scope=col>approx F</th><th scope=col>num Df</th><th scope=col>den Df</th><th scope=col>Pr(&gt;F)</th></tr></thead>\n",
       "<tbody>\n",
       "\t<tr><th scope=row>(Intercept)</th><td>   1         </td><td>0.99809377   </td><td>3.238443e+05 </td><td> 2           </td><td>1237         </td><td> 0.000000e+00</td></tr>\n",
       "\t<tr><th scope=row>ln_budget</th><td>   1         </td><td>0.69083893   </td><td>1.382075e+03 </td><td> 2           </td><td>1237         </td><td>4.778571e-316</td></tr>\n",
       "\t<tr><th scope=row>rating</th><td>   2         </td><td>0.04890388   </td><td>1.551513e+01 </td><td> 4           </td><td>2476         </td><td> 1.531089e-12</td></tr>\n",
       "\t<tr><th scope=row>source</th><td>   6         </td><td>0.04391360   </td><td>4.632126e+00 </td><td>12           </td><td>2476         </td><td> 1.750033e-07</td></tr>\n",
       "\t<tr><th scope=row>genre</th><td>   4         </td><td>0.08305599   </td><td>1.340980e+01 </td><td> 8           </td><td>2476         </td><td> 3.775373e-19</td></tr>\n",
       "\t<tr><th scope=row>ln_directors_avg_bo</th><td>   1         </td><td>0.56270029   </td><td>7.958618e+02 </td><td> 2           </td><td>1237         </td><td>6.636375e-223</td></tr>\n",
       "\t<tr><th scope=row>ln_sum_actor_avg_bo</th><td>   1         </td><td>0.17702191   </td><td>1.330388e+02 </td><td> 2           </td><td>1237         </td><td> 4.652062e-53</td></tr>\n",
       "\t<tr><th scope=row>Residuals</th><td>1238         </td><td>        NA   </td><td>          NA </td><td>NA           </td><td>  NA         </td><td>           NA</td></tr>\n",
       "</tbody>\n",
       "</table>\n"
      ],
      "text/latex": [
       "\\begin{tabular}{r|llllll}\n",
       "  & Df & Pillai & approx F & num Df & den Df & Pr(>F)\\\\\n",
       "\\hline\n",
       "\t(Intercept) &    1          & 0.99809377    & 3.238443e+05  &  2            & 1237          &  0.000000e+00\\\\\n",
       "\tln\\_budget &    1          & 0.69083893    & 1.382075e+03  &  2            & 1237          & 4.778571e-316\\\\\n",
       "\trating &    2          & 0.04890388    & 1.551513e+01  &  4            & 2476          &  1.531089e-12\\\\\n",
       "\tsource &    6          & 0.04391360    & 4.632126e+00  & 12            & 2476          &  1.750033e-07\\\\\n",
       "\tgenre &    4          & 0.08305599    & 1.340980e+01  &  8            & 2476          &  3.775373e-19\\\\\n",
       "\tln\\_directors\\_avg\\_bo &    1          & 0.56270029    & 7.958618e+02  &  2            & 1237          & 6.636375e-223\\\\\n",
       "\tln\\_sum\\_actor\\_avg\\_bo &    1          & 0.17702191    & 1.330388e+02  &  2            & 1237          &  4.652062e-53\\\\\n",
       "\tResiduals & 1238          &         NA    &           NA  & NA            &   NA          &            NA\\\\\n",
       "\\end{tabular}\n"
      ],
      "text/markdown": [
       "\n",
       "| <!--/--> | Df | Pillai | approx F | num Df | den Df | Pr(>F) |\n",
       "|---|---|---|---|---|---|---|\n",
       "| (Intercept) |    1          | 0.99809377    | 3.238443e+05  |  2            | 1237          |  0.000000e+00 |\n",
       "| ln_budget |    1          | 0.69083893    | 1.382075e+03  |  2            | 1237          | 4.778571e-316 |\n",
       "| rating |    2          | 0.04890388    | 1.551513e+01  |  4            | 2476          |  1.531089e-12 |\n",
       "| source |    6          | 0.04391360    | 4.632126e+00  | 12            | 2476          |  1.750033e-07 |\n",
       "| genre |    4          | 0.08305599    | 1.340980e+01  |  8            | 2476          |  3.775373e-19 |\n",
       "| ln_directors_avg_bo |    1          | 0.56270029    | 7.958618e+02  |  2            | 1237          | 6.636375e-223 |\n",
       "| ln_sum_actor_avg_bo |    1          | 0.17702191    | 1.330388e+02  |  2            | 1237          |  4.652062e-53 |\n",
       "| Residuals | 1238          |         NA    |           NA  | NA            |   NA          |            NA |\n",
       "\n"
      ],
      "text/plain": [
       "                    Df   Pillai     approx F     num Df den Df Pr(>F)       \n",
       "(Intercept)            1 0.99809377 3.238443e+05  2     1237    0.000000e+00\n",
       "ln_budget              1 0.69083893 1.382075e+03  2     1237   4.778571e-316\n",
       "rating                 2 0.04890388 1.551513e+01  4     2476    1.531089e-12\n",
       "source                 6 0.04391360 4.632126e+00 12     2476    1.750033e-07\n",
       "genre                  4 0.08305599 1.340980e+01  8     2476    3.775373e-19\n",
       "ln_directors_avg_bo    1 0.56270029 7.958618e+02  2     1237   6.636375e-223\n",
       "ln_sum_actor_avg_bo    1 0.17702191 1.330388e+02  2     1237    4.652062e-53\n",
       "Residuals           1238         NA           NA NA       NA              NA"
      ]
     },
     "metadata": {},
     "output_type": "display_data"
    },
    {
     "data": {
      "text/html": [
       "<table>\n",
       "<thead><tr><th></th><th scope=col>Df</th><th scope=col>Hotelling-Lawley</th><th scope=col>approx F</th><th scope=col>num Df</th><th scope=col>den Df</th><th scope=col>Pr(&gt;F)</th></tr></thead>\n",
       "<tbody>\n",
       "\t<tr><th scope=row>(Intercept)</th><td>   1         </td><td>523.59634046 </td><td>323844.33657 </td><td> 2           </td><td>1237         </td><td> 0.000000e+00</td></tr>\n",
       "\t<tr><th scope=row>ln_budget</th><td>   1         </td><td>  2.23455992 </td><td>  1382.07531 </td><td> 2           </td><td>1237         </td><td>4.778571e-316</td></tr>\n",
       "\t<tr><th scope=row>rating</th><td>   2         </td><td>  0.05119668 </td><td>    15.81977 </td><td> 4           </td><td>2472         </td><td> 8.612978e-13</td></tr>\n",
       "\t<tr><th scope=row>source</th><td>   6         </td><td>  0.04503757 </td><td>     4.63887 </td><td>12           </td><td>2472         </td><td> 1.694215e-07</td></tr>\n",
       "\t<tr><th scope=row>genre</th><td>   4         </td><td>  0.08668831 </td><td>    13.39334 </td><td> 8           </td><td>2472         </td><td> 4.013639e-19</td></tr>\n",
       "\t<tr><th scope=row>ln_directors_avg_bo</th><td>   1         </td><td>  1.28676116 </td><td>   795.86178 </td><td> 2           </td><td>1237         </td><td>6.636375e-223</td></tr>\n",
       "\t<tr><th scope=row>ln_sum_actor_avg_bo</th><td>   1         </td><td>  0.21509918 </td><td>   133.03885 </td><td> 2           </td><td>1237         </td><td> 4.652062e-53</td></tr>\n",
       "\t<tr><th scope=row>Residuals</th><td>1238         </td><td>          NA </td><td>          NA </td><td>NA           </td><td>  NA         </td><td>           NA</td></tr>\n",
       "</tbody>\n",
       "</table>\n"
      ],
      "text/latex": [
       "\\begin{tabular}{r|llllll}\n",
       "  & Df & Hotelling-Lawley & approx F & num Df & den Df & Pr(>F)\\\\\n",
       "\\hline\n",
       "\t(Intercept) &    1          & 523.59634046  & 323844.33657  &  2            & 1237          &  0.000000e+00\\\\\n",
       "\tln\\_budget &    1          &   2.23455992  &   1382.07531  &  2            & 1237          & 4.778571e-316\\\\\n",
       "\trating &    2          &   0.05119668  &     15.81977  &  4            & 2472          &  8.612978e-13\\\\\n",
       "\tsource &    6          &   0.04503757  &      4.63887  & 12            & 2472          &  1.694215e-07\\\\\n",
       "\tgenre &    4          &   0.08668831  &     13.39334  &  8            & 2472          &  4.013639e-19\\\\\n",
       "\tln\\_directors\\_avg\\_bo &    1          &   1.28676116  &    795.86178  &  2            & 1237          & 6.636375e-223\\\\\n",
       "\tln\\_sum\\_actor\\_avg\\_bo &    1          &   0.21509918  &    133.03885  &  2            & 1237          &  4.652062e-53\\\\\n",
       "\tResiduals & 1238          &           NA  &           NA  & NA            &   NA          &            NA\\\\\n",
       "\\end{tabular}\n"
      ],
      "text/markdown": [
       "\n",
       "| <!--/--> | Df | Hotelling-Lawley | approx F | num Df | den Df | Pr(>F) |\n",
       "|---|---|---|---|---|---|---|\n",
       "| (Intercept) |    1          | 523.59634046  | 323844.33657  |  2            | 1237          |  0.000000e+00 |\n",
       "| ln_budget |    1          |   2.23455992  |   1382.07531  |  2            | 1237          | 4.778571e-316 |\n",
       "| rating |    2          |   0.05119668  |     15.81977  |  4            | 2472          |  8.612978e-13 |\n",
       "| source |    6          |   0.04503757  |      4.63887  | 12            | 2472          |  1.694215e-07 |\n",
       "| genre |    4          |   0.08668831  |     13.39334  |  8            | 2472          |  4.013639e-19 |\n",
       "| ln_directors_avg_bo |    1          |   1.28676116  |    795.86178  |  2            | 1237          | 6.636375e-223 |\n",
       "| ln_sum_actor_avg_bo |    1          |   0.21509918  |    133.03885  |  2            | 1237          |  4.652062e-53 |\n",
       "| Residuals | 1238          |           NA  |           NA  | NA            |   NA          |            NA |\n",
       "\n"
      ],
      "text/plain": [
       "                    Df   Hotelling-Lawley approx F     num Df den Df\n",
       "(Intercept)            1 523.59634046     323844.33657  2     1237  \n",
       "ln_budget              1   2.23455992       1382.07531  2     1237  \n",
       "rating                 2   0.05119668         15.81977  4     2472  \n",
       "source                 6   0.04503757          4.63887 12     2472  \n",
       "genre                  4   0.08668831         13.39334  8     2472  \n",
       "ln_directors_avg_bo    1   1.28676116        795.86178  2     1237  \n",
       "ln_sum_actor_avg_bo    1   0.21509918        133.03885  2     1237  \n",
       "Residuals           1238           NA               NA NA       NA  \n",
       "                    Pr(>F)       \n",
       "(Intercept)          0.000000e+00\n",
       "ln_budget           4.778571e-316\n",
       "rating               8.612978e-13\n",
       "source               1.694215e-07\n",
       "genre                4.013639e-19\n",
       "ln_directors_avg_bo 6.636375e-223\n",
       "ln_sum_actor_avg_bo  4.652062e-53\n",
       "Residuals                      NA"
      ]
     },
     "metadata": {},
     "output_type": "display_data"
    },
    {
     "data": {
      "text/html": [
       "<table>\n",
       "<thead><tr><th></th><th scope=col>Df</th><th scope=col>Roy</th><th scope=col>approx F</th><th scope=col>num Df</th><th scope=col>den Df</th><th scope=col>Pr(&gt;F)</th></tr></thead>\n",
       "<tbody>\n",
       "\t<tr><th scope=row>(Intercept)</th><td>   1         </td><td>523.59634046 </td><td>3.238443e+05 </td><td> 2           </td><td>1237         </td><td> 0.000000e+00</td></tr>\n",
       "\t<tr><th scope=row>ln_budget</th><td>   1         </td><td>  2.23455992 </td><td>1.382075e+03 </td><td> 2           </td><td>1237         </td><td>4.778571e-316</td></tr>\n",
       "\t<tr><th scope=row>rating</th><td>   2         </td><td>  0.04899001 </td><td>3.032482e+01 </td><td> 2           </td><td>1238         </td><td> 1.388457e-13</td></tr>\n",
       "\t<tr><th scope=row>source</th><td>   6         </td><td>  0.03092221 </td><td>6.380283e+00 </td><td> 6           </td><td>1238         </td><td> 1.250081e-06</td></tr>\n",
       "\t<tr><th scope=row>genre</th><td>   4         </td><td>  0.04753866 </td><td>1.471321e+01 </td><td> 4           </td><td>1238         </td><td> 9.516828e-12</td></tr>\n",
       "\t<tr><th scope=row>ln_directors_avg_bo</th><td>   1         </td><td>  1.28676116 </td><td>7.958618e+02 </td><td> 2           </td><td>1237         </td><td>6.636375e-223</td></tr>\n",
       "\t<tr><th scope=row>ln_sum_actor_avg_bo</th><td>   1         </td><td>  0.21509918 </td><td>1.330388e+02 </td><td> 2           </td><td>1237         </td><td> 4.652062e-53</td></tr>\n",
       "\t<tr><th scope=row>Residuals</th><td>1238         </td><td>          NA </td><td>          NA </td><td>NA           </td><td>  NA         </td><td>           NA</td></tr>\n",
       "</tbody>\n",
       "</table>\n"
      ],
      "text/latex": [
       "\\begin{tabular}{r|llllll}\n",
       "  & Df & Roy & approx F & num Df & den Df & Pr(>F)\\\\\n",
       "\\hline\n",
       "\t(Intercept) &    1          & 523.59634046  & 3.238443e+05  &  2            & 1237          &  0.000000e+00\\\\\n",
       "\tln\\_budget &    1          &   2.23455992  & 1.382075e+03  &  2            & 1237          & 4.778571e-316\\\\\n",
       "\trating &    2          &   0.04899001  & 3.032482e+01  &  2            & 1238          &  1.388457e-13\\\\\n",
       "\tsource &    6          &   0.03092221  & 6.380283e+00  &  6            & 1238          &  1.250081e-06\\\\\n",
       "\tgenre &    4          &   0.04753866  & 1.471321e+01  &  4            & 1238          &  9.516828e-12\\\\\n",
       "\tln\\_directors\\_avg\\_bo &    1          &   1.28676116  & 7.958618e+02  &  2            & 1237          & 6.636375e-223\\\\\n",
       "\tln\\_sum\\_actor\\_avg\\_bo &    1          &   0.21509918  & 1.330388e+02  &  2            & 1237          &  4.652062e-53\\\\\n",
       "\tResiduals & 1238          &           NA  &           NA  & NA            &   NA          &            NA\\\\\n",
       "\\end{tabular}\n"
      ],
      "text/markdown": [
       "\n",
       "| <!--/--> | Df | Roy | approx F | num Df | den Df | Pr(>F) |\n",
       "|---|---|---|---|---|---|---|\n",
       "| (Intercept) |    1          | 523.59634046  | 3.238443e+05  |  2            | 1237          |  0.000000e+00 |\n",
       "| ln_budget |    1          |   2.23455992  | 1.382075e+03  |  2            | 1237          | 4.778571e-316 |\n",
       "| rating |    2          |   0.04899001  | 3.032482e+01  |  2            | 1238          |  1.388457e-13 |\n",
       "| source |    6          |   0.03092221  | 6.380283e+00  |  6            | 1238          |  1.250081e-06 |\n",
       "| genre |    4          |   0.04753866  | 1.471321e+01  |  4            | 1238          |  9.516828e-12 |\n",
       "| ln_directors_avg_bo |    1          |   1.28676116  | 7.958618e+02  |  2            | 1237          | 6.636375e-223 |\n",
       "| ln_sum_actor_avg_bo |    1          |   0.21509918  | 1.330388e+02  |  2            | 1237          |  4.652062e-53 |\n",
       "| Residuals | 1238          |           NA  |           NA  | NA            |   NA          |            NA |\n",
       "\n"
      ],
      "text/plain": [
       "                    Df   Roy          approx F     num Df den Df Pr(>F)       \n",
       "(Intercept)            1 523.59634046 3.238443e+05  2     1237    0.000000e+00\n",
       "ln_budget              1   2.23455992 1.382075e+03  2     1237   4.778571e-316\n",
       "rating                 2   0.04899001 3.032482e+01  2     1238    1.388457e-13\n",
       "source                 6   0.03092221 6.380283e+00  6     1238    1.250081e-06\n",
       "genre                  4   0.04753866 1.471321e+01  4     1238    9.516828e-12\n",
       "ln_directors_avg_bo    1   1.28676116 7.958618e+02  2     1237   6.636375e-223\n",
       "ln_sum_actor_avg_bo    1   0.21509918 1.330388e+02  2     1237    4.652062e-53\n",
       "Residuals           1238           NA           NA NA       NA              NA"
      ]
     },
     "metadata": {},
     "output_type": "display_data"
    }
   ],
   "source": [
    "#anova of m1 and m2 linear regressions to show which on has a better prediction\n",
    "anova(m1,m2)\n",
    "\n",
    "anova(m2, test = c(\"Wilks\"))\n",
    "anova(m2, test = c(\"Pillai\"))\n",
    "anova(m2, test = c(\"Hotelling-Lawley\"))\n",
    "anova(m2, test = c(\"Roy\"))\n"
   ]
  },
  {
   "cell_type": "code",
   "execution_count": 115,
   "metadata": {},
   "outputs": [
    {
     "data": {
      "text/html": [
       "<table>\n",
       "<thead><tr><th></th><th scope=col>ln_international</th><th scope=col>ln_domestic</th></tr></thead>\n",
       "<tbody>\n",
       "\t<tr><th scope=row>(Intercept)</th><td>-15.4397850</td><td>-6.29037085</td></tr>\n",
       "\t<tr><th scope=row>ln_budget</th><td>  0.4917260</td><td> 0.09519264</td></tr>\n",
       "\t<tr><th scope=row>ratingPG-13</th><td>  0.2572970</td><td>-0.02986044</td></tr>\n",
       "\t<tr><th scope=row>ratingR</th><td>  0.2869298</td><td>-0.37194640</td></tr>\n",
       "\t<tr><th scope=row>sourceFiction\n",
       "Book/Short\n",
       "Story</th><td>  0.4279208</td><td>-0.01770711</td></tr>\n",
       "\t<tr><th scope=row>sourceGraphic\n",
       "Novel/Game</th><td>  0.1885058</td><td> 0.13650414</td></tr>\n",
       "\t<tr><th scope=row>sourceLive/Live\n",
       "Adaptation</th><td> -0.1938292</td><td>-0.14990683</td></tr>\n",
       "\t<tr><th scope=row>sourceOriginal\n",
       "Screenplay</th><td>  0.2952634</td><td> 0.01882078</td></tr>\n",
       "\t<tr><th scope=row>sourceRemake</th><td>  0.3063950</td><td> 0.32997568</td></tr>\n",
       "\t<tr><th scope=row>sourceTV</th><td>  0.2104163</td><td> 0.16591676</td></tr>\n",
       "\t<tr><th scope=row>genreAdventure</th><td> -0.0132199</td><td> 0.02831670</td></tr>\n",
       "\t<tr><th scope=row>genreComedy</th><td> -0.3393303</td><td> 0.45922580</td></tr>\n",
       "\t<tr><th scope=row>genreDrama</th><td> -0.3077804</td><td> 0.09727769</td></tr>\n",
       "\t<tr><th scope=row>genreThriller/Horror</th><td>  0.1135748</td><td> 0.22387331</td></tr>\n",
       "\t<tr><th scope=row>ln_directors_avg_bo</th><td>  0.6834622</td><td> 0.72048866</td></tr>\n",
       "\t<tr><th scope=row>ln_sum_actor_avg_bo</th><td>  0.5671528</td><td> 0.43995426</td></tr>\n",
       "</tbody>\n",
       "</table>\n"
      ],
      "text/latex": [
       "\\begin{tabular}{r|ll}\n",
       "  & ln\\_international & ln\\_domestic\\\\\n",
       "\\hline\n",
       "\t(Intercept) & -15.4397850 & -6.29037085\\\\\n",
       "\tln\\_budget &   0.4917260 &  0.09519264\\\\\n",
       "\tratingPG-13 &   0.2572970 & -0.02986044\\\\\n",
       "\tratingR &   0.2869298 & -0.37194640\\\\\n",
       "\tsourceFiction\n",
       "Book/Short\n",
       "Story &   0.4279208 & -0.01770711\\\\\n",
       "\tsourceGraphic\n",
       "Novel/Game &   0.1885058 &  0.13650414\\\\\n",
       "\tsourceLive/Live\n",
       "Adaptation &  -0.1938292 & -0.14990683\\\\\n",
       "\tsourceOriginal\n",
       "Screenplay &   0.2952634 &  0.01882078\\\\\n",
       "\tsourceRemake &   0.3063950 &  0.32997568\\\\\n",
       "\tsourceTV &   0.2104163 &  0.16591676\\\\\n",
       "\tgenreAdventure &  -0.0132199 &  0.02831670\\\\\n",
       "\tgenreComedy &  -0.3393303 &  0.45922580\\\\\n",
       "\tgenreDrama &  -0.3077804 &  0.09727769\\\\\n",
       "\tgenreThriller/Horror &   0.1135748 &  0.22387331\\\\\n",
       "\tln\\_directors\\_avg\\_bo &   0.6834622 &  0.72048866\\\\\n",
       "\tln\\_sum\\_actor\\_avg\\_bo &   0.5671528 &  0.43995426\\\\\n",
       "\\end{tabular}\n"
      ],
      "text/markdown": [
       "\n",
       "| <!--/--> | ln_international | ln_domestic |\n",
       "|---|---|---|\n",
       "| (Intercept) | -15.4397850 | -6.29037085 |\n",
       "| ln_budget |   0.4917260 |  0.09519264 |\n",
       "| ratingPG-13 |   0.2572970 | -0.02986044 |\n",
       "| ratingR |   0.2869298 | -0.37194640 |\n",
       "| sourceFiction\n",
       "Book/Short\n",
       "Story |   0.4279208 | -0.01770711 |\n",
       "| sourceGraphic\n",
       "Novel/Game |   0.1885058 |  0.13650414 |\n",
       "| sourceLive/Live\n",
       "Adaptation |  -0.1938292 | -0.14990683 |\n",
       "| sourceOriginal\n",
       "Screenplay |   0.2952634 |  0.01882078 |\n",
       "| sourceRemake |   0.3063950 |  0.32997568 |\n",
       "| sourceTV |   0.2104163 |  0.16591676 |\n",
       "| genreAdventure |  -0.0132199 |  0.02831670 |\n",
       "| genreComedy |  -0.3393303 |  0.45922580 |\n",
       "| genreDrama |  -0.3077804 |  0.09727769 |\n",
       "| genreThriller/Horror |   0.1135748 |  0.22387331 |\n",
       "| ln_directors_avg_bo |   0.6834622 |  0.72048866 |\n",
       "| ln_sum_actor_avg_bo |   0.5671528 |  0.43995426 |\n",
       "\n"
      ],
      "text/plain": [
       "                                 ln_international ln_domestic\n",
       "(Intercept)                      -15.4397850      -6.29037085\n",
       "ln_budget                          0.4917260       0.09519264\n",
       "ratingPG-13                        0.2572970      -0.02986044\n",
       "ratingR                            0.2869298      -0.37194640\n",
       "sourceFiction\\nBook/Short\\nStory   0.4279208      -0.01770711\n",
       "sourceGraphic\\nNovel/Game          0.1885058       0.13650414\n",
       "sourceLive/Live\\nAdaptation       -0.1938292      -0.14990683\n",
       "sourceOriginal\\nScreenplay         0.2952634       0.01882078\n",
       "sourceRemake                       0.3063950       0.32997568\n",
       "sourceTV                           0.2104163       0.16591676\n",
       "genreAdventure                    -0.0132199       0.02831670\n",
       "genreComedy                       -0.3393303       0.45922580\n",
       "genreDrama                        -0.3077804       0.09727769\n",
       "genreThriller/Horror               0.1135748       0.22387331\n",
       "ln_directors_avg_bo                0.6834622       0.72048866\n",
       "ln_sum_actor_avg_bo                0.5671528       0.43995426"
      ]
     },
     "metadata": {},
     "output_type": "display_data"
    }
   ],
   "source": [
    "# detailed look at the coefficients of each independent variable's effect on international and domestic box office\n",
    "m2$coefficients"
   ]
  },
  {
   "cell_type": "code",
   "execution_count": 116,
   "metadata": {},
   "outputs": [
    {
     "data": {
      "image/png": "[encoded data removed]",
      "text/plain": [
       "plot without title"
      ]
     },
     "metadata": {},
     "output_type": "display_data"
    }
   ],
   "source": [
    "# plot residuals to check if the residuals are distributed normally around 0\n",
    "plot(resid(m2) , col = 500)"
   ]
  },
  {
   "cell_type": "code",
   "execution_count": 117,
   "metadata": {},
   "outputs": [
    {
     "data": {
      "image/png": "[encoded data removed]",
      "text/plain": [
       "plot without title"
      ]
     },
     "metadata": {},
     "output_type": "display_data"
    }
   ],
   "source": [
    "# plot the fitted values\n",
    "plot(fitted(m2), col = 36)"
   ]
  },
  {
   "cell_type": "markdown",
   "metadata": {},
   "source": [
    "### Test and Train m2"
   ]
  },
  {
   "cell_type": "code",
   "execution_count": 118,
   "metadata": {},
   "outputs": [
    {
     "name": "stdout",
     "output_type": "stream",
     "text": [
      "Observations: 1,254\n",
      "Variables: 26\n",
      "$ id_number           <dbl> 264790100, 200450100, 230490100, 207170100, 202...\n",
      "$ `Title flag`        <dbl> 0, 0, 0, 0, 0, 0, 0, 0, 0, 0, 0, 0, 0, 0, 0, 0,...\n",
      "$ movie_name          <chr> \"Flatliners\", \"Alice Through the Looking Glass\"...\n",
      "$ year                <dbl> 2017, 2016, 2016, 2016, 2016, 2016, 2016, 2016,...\n",
      "$ budget              <dbl> 2.00e+07, 1.70e+08, 2.00e+07, 9.50e+07, 2.50e+0...\n",
      "$ domestic            <dbl> 16877430, 77042381, 113257297, 26410477, 408084...\n",
      "$ international       <dbl> 28192226, 200400000, 68200000, 62314623, 745220...\n",
      "$ rating              <fct> PG-13, PG, R, PG-13, PG-13, PG-13, R, PG-13, PG...\n",
      "$ storytype           <fct> Science\n",
      "Fiction, Fantasy, Contemporary\n",
      "Fiction,...\n",
      "$ source              <fct> Original\n",
      "Screenplay, Fiction\n",
      "Book/Short\n",
      "Story, ...\n",
      "$ production_method   <fct> Live\n",
      "Action, Animation/Live\n",
      "Action, Live\n",
      "Action...\n",
      "$ genre               <fct> Thriller/Horror, Adventure, Comedy, Drama, Acti...\n",
      "$ sequel              <fct> 1, 1, 0, 0, 1, 0, 0, 0, 1, 0, 0, 1, 0, 0, 1, 0,...\n",
      "$ directors_avg_bo    <dbl> 61331412, 172575535, 181457297, 189543763, 6660...\n",
      "$ actor_1_avg_bo      <dbl> 97219463, 318217389, 217505158, 251062110, 4581...\n",
      "$ actor_2_avg_bo      <dbl> 99177544, 746005726, 90957408, 193230618, 46575...\n",
      "$ actor_3_avg_bo      <dbl> 15036069, 304749652, 394499805, 105334948, 2583...\n",
      "$ ln_budget           <dbl> 16.81124, 18.95131, 16.81124, 18.36939, 19.3369...\n",
      "$ sqrt_budget         <dbl> 4472.136, 13038.405, 4472.136, 9746.794, 15811....\n",
      "$ ln_international    <dbl> 17.15456, 19.11583, 18.03796, 17.94771, 20.4291...\n",
      "$ ln_domestic         <dbl> 16.64149, 18.15987, 18.54517, 17.08927, 19.8269...\n",
      "$ ln_directors_avg_bo <dbl> 17.93180, 18.96635, 19.01653, 19.06013, 20.3168...\n",
      "$ ln_actor_1_avg_bo   <dbl> 18.39248, 19.57825, 19.19773, 19.34121, 19.9426...\n",
      "$ ln_actor_2_avg_bo   <dbl> 18.41242, 20.43024, 18.32590, 19.07939, 19.9591...\n",
      "$ ln_actor_3_avg_bo   <dbl> 16.52596, 19.53500, 19.79313, 18.47266, 19.3698...\n",
      "$ ln_sum_actor_avg_bo <dbl> 19.16942, 21.03733, 20.37081, 20.12475, 20.8906...\n"
     ]
    },
    {
     "data": {
      "text/html": [
       "<ol class=list-inline>\n",
       "\t<li>1003</li>\n",
       "\t<li>26</li>\n",
       "</ol>\n"
      ],
      "text/latex": [
       "\\begin{enumerate*}\n",
       "\\item 1003\n",
       "\\item 26\n",
       "\\end{enumerate*}\n"
      ],
      "text/markdown": [
       "1. 1003\n",
       "2. 26\n",
       "\n",
       "\n"
      ],
      "text/plain": [
       "[1] 1003   26"
      ]
     },
     "metadata": {},
     "output_type": "display_data"
    },
    {
     "data": {
      "text/html": [
       "<ol class=list-inline>\n",
       "\t<li>251</li>\n",
       "\t<li>26</li>\n",
       "</ol>\n"
      ],
      "text/latex": [
       "\\begin{enumerate*}\n",
       "\\item 251\n",
       "\\item 26\n",
       "\\end{enumerate*}\n"
      ],
      "text/markdown": [
       "1. 251\n",
       "2. 26\n",
       "\n",
       "\n"
      ],
      "text/plain": [
       "[1] 251  26"
      ]
     },
     "metadata": {},
     "output_type": "display_data"
    }
   ],
   "source": [
    "# Test & Train dataset and model stability testing 80/20\n",
    "set.seed(123)\n",
    "smp_size<-floor(0.8*nrow(data3))\n",
    "train_ind<-sample(seq_len(nrow(data3)),size=smp_size)\n",
    "\n",
    "train<-data3[train_ind,]\n",
    "test<-data3[-train_ind,]\n",
    "\n",
    "glimpse(data3)\n",
    "\n",
    "#review the dimensions of test and train data\n",
    "dim(train)\n",
    "dim(test)"
   ]
  },
  {
   "cell_type": "code",
   "execution_count": 119,
   "metadata": {},
   "outputs": [
    {
     "data": {
      "text/html": [
       "<table>\n",
       "<thead><tr><th></th><th scope=col>Df</th><th scope=col>Pillai</th><th scope=col>approx F</th><th scope=col>num Df</th><th scope=col>den Df</th><th scope=col>Pr(&gt;F)</th></tr></thead>\n",
       "<tbody>\n",
       "\t<tr><th scope=row>(Intercept)</th><td>  1          </td><td>0.99822359   </td><td>2.770333e+05 </td><td> 2           </td><td> 986         </td><td> 0.000000e+00</td></tr>\n",
       "\t<tr><th scope=row>ln_budget</th><td>  1          </td><td>0.71540718   </td><td>1.239300e+03 </td><td> 2           </td><td> 986         </td><td>8.558551e-270</td></tr>\n",
       "\t<tr><th scope=row>rating</th><td>  2          </td><td>0.06220766   </td><td>1.584250e+01 </td><td> 4           </td><td>1974         </td><td> 9.050791e-13</td></tr>\n",
       "\t<tr><th scope=row>source</th><td>  6          </td><td>0.04585491   </td><td>3.860068e+00 </td><td>12           </td><td>1974         </td><td> 7.215039e-06</td></tr>\n",
       "\t<tr><th scope=row>genre</th><td>  4          </td><td>0.08262772   </td><td>1.063351e+01 </td><td> 8           </td><td>1974         </td><td> 1.003044e-14</td></tr>\n",
       "\t<tr><th scope=row>ln_directors_avg_bo</th><td>  1          </td><td>0.59376498   </td><td>7.205832e+02 </td><td> 2           </td><td> 986         </td><td>1.340413e-193</td></tr>\n",
       "\t<tr><th scope=row>ln_sum_actor_avg_bo</th><td>  1          </td><td>0.16942495   </td><td>1.005647e+02 </td><td> 2           </td><td> 986         </td><td> 1.793859e-40</td></tr>\n",
       "\t<tr><th scope=row>Residuals</th><td>987          </td><td>        NA   </td><td>          NA </td><td>NA           </td><td>  NA         </td><td>           NA</td></tr>\n",
       "</tbody>\n",
       "</table>\n"
      ],
      "text/latex": [
       "\\begin{tabular}{r|llllll}\n",
       "  & Df & Pillai & approx F & num Df & den Df & Pr(>F)\\\\\n",
       "\\hline\n",
       "\t(Intercept) &   1           & 0.99822359    & 2.770333e+05  &  2            &  986          &  0.000000e+00\\\\\n",
       "\tln\\_budget &   1           & 0.71540718    & 1.239300e+03  &  2            &  986          & 8.558551e-270\\\\\n",
       "\trating &   2           & 0.06220766    & 1.584250e+01  &  4            & 1974          &  9.050791e-13\\\\\n",
       "\tsource &   6           & 0.04585491    & 3.860068e+00  & 12            & 1974          &  7.215039e-06\\\\\n",
       "\tgenre &   4           & 0.08262772    & 1.063351e+01  &  8            & 1974          &  1.003044e-14\\\\\n",
       "\tln\\_directors\\_avg\\_bo &   1           & 0.59376498    & 7.205832e+02  &  2            &  986          & 1.340413e-193\\\\\n",
       "\tln\\_sum\\_actor\\_avg\\_bo &   1           & 0.16942495    & 1.005647e+02  &  2            &  986          &  1.793859e-40\\\\\n",
       "\tResiduals & 987           &         NA    &           NA  & NA            &   NA          &            NA\\\\\n",
       "\\end{tabular}\n"
      ],
      "text/markdown": [
       "\n",
       "| <!--/--> | Df | Pillai | approx F | num Df | den Df | Pr(>F) |\n",
       "|---|---|---|---|---|---|---|\n",
       "| (Intercept) |   1           | 0.99822359    | 2.770333e+05  |  2            |  986          |  0.000000e+00 |\n",
       "| ln_budget |   1           | 0.71540718    | 1.239300e+03  |  2            |  986          | 8.558551e-270 |\n",
       "| rating |   2           | 0.06220766    | 1.584250e+01  |  4            | 1974          |  9.050791e-13 |\n",
       "| source |   6           | 0.04585491    | 3.860068e+00  | 12            | 1974          |  7.215039e-06 |\n",
       "| genre |   4           | 0.08262772    | 1.063351e+01  |  8            | 1974          |  1.003044e-14 |\n",
       "| ln_directors_avg_bo |   1           | 0.59376498    | 7.205832e+02  |  2            |  986          | 1.340413e-193 |\n",
       "| ln_sum_actor_avg_bo |   1           | 0.16942495    | 1.005647e+02  |  2            |  986          |  1.793859e-40 |\n",
       "| Residuals | 987           |         NA    |           NA  | NA            |   NA          |            NA |\n",
       "\n"
      ],
      "text/plain": [
       "                    Df  Pillai     approx F     num Df den Df Pr(>F)       \n",
       "(Intercept)           1 0.99822359 2.770333e+05  2      986    0.000000e+00\n",
       "ln_budget             1 0.71540718 1.239300e+03  2      986   8.558551e-270\n",
       "rating                2 0.06220766 1.584250e+01  4     1974    9.050791e-13\n",
       "source                6 0.04585491 3.860068e+00 12     1974    7.215039e-06\n",
       "genre                 4 0.08262772 1.063351e+01  8     1974    1.003044e-14\n",
       "ln_directors_avg_bo   1 0.59376498 7.205832e+02  2      986   1.340413e-193\n",
       "ln_sum_actor_avg_bo   1 0.16942495 1.005647e+02  2      986    1.793859e-40\n",
       "Residuals           987         NA           NA NA       NA              NA"
      ]
     },
     "metadata": {},
     "output_type": "display_data"
    }
   ],
   "source": [
    "m2_train<-\n",
    "lm(cbind(ln_international,ln_domestic)~ln_budget+rating+source+genre+\n",
    "   ln_directors_avg_bo+ln_sum_actor_avg_bo,data=train)\n",
    "\n",
    "anova(m2_train)\n"
   ]
  },
  {
   "cell_type": "code",
   "execution_count": 120,
   "metadata": {},
   "outputs": [
    {
     "data": {
      "text/html": [
       "<ol class=list-inline>\n",
       "\t<li>'PG'</li>\n",
       "\t<li>'PG-13'</li>\n",
       "\t<li>'R'</li>\n",
       "</ol>\n"
      ],
      "text/latex": [
       "\\begin{enumerate*}\n",
       "\\item 'PG'\n",
       "\\item 'PG-13'\n",
       "\\item 'R'\n",
       "\\end{enumerate*}\n"
      ],
      "text/markdown": [
       "1. 'PG'\n",
       "2. 'PG-13'\n",
       "3. 'R'\n",
       "\n",
       "\n"
      ],
      "text/plain": [
       "[1] \"PG\"    \"PG-13\" \"R\"    "
      ]
     },
     "metadata": {},
     "output_type": "display_data"
    },
    {
     "data": {
      "text/html": [
       "'***********'"
      ],
      "text/latex": [
       "'***********'"
      ],
      "text/markdown": [
       "'***********'"
      ],
      "text/plain": [
       "[1] \"***********\""
      ]
     },
     "metadata": {},
     "output_type": "display_data"
    },
    {
     "data": {
      "text/html": [
       "<ol class=list-inline>\n",
       "\t<li>'Factual\\nBook/Real\\nEvents'</li>\n",
       "\t<li>'Fiction\\nBook/Short\\nStory'</li>\n",
       "\t<li>'Graphic\\nNovel/Game'</li>\n",
       "\t<li>'Live/Live\\nAdaptation'</li>\n",
       "\t<li>'Original\\nScreenplay'</li>\n",
       "\t<li>'Remake'</li>\n",
       "\t<li>'TV'</li>\n",
       "</ol>\n"
      ],
      "text/latex": [
       "\\begin{enumerate*}\n",
       "\\item 'Factual\\textbackslash{}nBook/Real\\textbackslash{}nEvents'\n",
       "\\item 'Fiction\\textbackslash{}nBook/Short\\textbackslash{}nStory'\n",
       "\\item 'Graphic\\textbackslash{}nNovel/Game'\n",
       "\\item 'Live/Live\\textbackslash{}nAdaptation'\n",
       "\\item 'Original\\textbackslash{}nScreenplay'\n",
       "\\item 'Remake'\n",
       "\\item 'TV'\n",
       "\\end{enumerate*}\n"
      ],
      "text/markdown": [
       "1. 'Factual\\nBook/Real\\nEvents'\n",
       "2. 'Fiction\\nBook/Short\\nStory'\n",
       "3. 'Graphic\\nNovel/Game'\n",
       "4. 'Live/Live\\nAdaptation'\n",
       "5. 'Original\\nScreenplay'\n",
       "6. 'Remake'\n",
       "7. 'TV'\n",
       "\n",
       "\n"
      ],
      "text/plain": [
       "[1] \"Factual\\nBook/Real\\nEvents\" \"Fiction\\nBook/Short\\nStory\"\n",
       "[3] \"Graphic\\nNovel/Game\"        \"Live/Live\\nAdaptation\"     \n",
       "[5] \"Original\\nScreenplay\"       \"Remake\"                    \n",
       "[7] \"TV\"                        "
      ]
     },
     "metadata": {},
     "output_type": "display_data"
    },
    {
     "data": {
      "text/html": [
       "'***********'"
      ],
      "text/latex": [
       "'***********'"
      ],
      "text/markdown": [
       "'***********'"
      ],
      "text/plain": [
       "[1] \"***********\""
      ]
     },
     "metadata": {},
     "output_type": "display_data"
    },
    {
     "data": {
      "text/html": [
       "<ol class=list-inline>\n",
       "\t<li>'Action'</li>\n",
       "\t<li>'Adventure'</li>\n",
       "\t<li>'Comedy'</li>\n",
       "\t<li>'Drama'</li>\n",
       "\t<li>'Thriller/Horror'</li>\n",
       "</ol>\n"
      ],
      "text/latex": [
       "\\begin{enumerate*}\n",
       "\\item 'Action'\n",
       "\\item 'Adventure'\n",
       "\\item 'Comedy'\n",
       "\\item 'Drama'\n",
       "\\item 'Thriller/Horror'\n",
       "\\end{enumerate*}\n"
      ],
      "text/markdown": [
       "1. 'Action'\n",
       "2. 'Adventure'\n",
       "3. 'Comedy'\n",
       "4. 'Drama'\n",
       "5. 'Thriller/Horror'\n",
       "\n",
       "\n"
      ],
      "text/plain": [
       "[1] \"Action\"          \"Adventure\"       \"Comedy\"          \"Drama\"          \n",
       "[5] \"Thriller/Horror\""
      ]
     },
     "metadata": {},
     "output_type": "display_data"
    }
   ],
   "source": [
    "# check the factors and levels for the categorical \n",
    "levels(train$rating)\n",
    "\"***********\"\n",
    "levels(train$source)\n",
    "\"***********\"\n",
    "levels(train$genre)"
   ]
  },
  {
   "cell_type": "markdown",
   "metadata": {},
   "source": [
    "### Prediction and Model Fit"
   ]
  },
  {
   "cell_type": "code",
   "execution_count": 121,
   "metadata": {},
   "outputs": [
    {
     "data": {
      "text/html": [
       "<table>\n",
       "<thead><tr><th scope=col>ln_international</th><th scope=col>ln_domestic</th></tr></thead>\n",
       "<tbody>\n",
       "\t<tr><td>16.69528</td><td>16.85926</td></tr>\n",
       "\t<tr><td>18.46693</td><td>18.16337</td></tr>\n",
       "\t<tr><td>19.78405</td><td>19.21519</td></tr>\n",
       "\t<tr><td>19.46288</td><td>19.07540</td></tr>\n",
       "\t<tr><td>16.95525</td><td>16.56919</td></tr>\n",
       "\t<tr><td>17.48369</td><td>17.74396</td></tr>\n",
       "</tbody>\n",
       "</table>\n"
      ],
      "text/latex": [
       "\\begin{tabular}{r|ll}\n",
       " ln\\_international & ln\\_domestic\\\\\n",
       "\\hline\n",
       "\t 16.69528 & 16.85926\\\\\n",
       "\t 18.46693 & 18.16337\\\\\n",
       "\t 19.78405 & 19.21519\\\\\n",
       "\t 19.46288 & 19.07540\\\\\n",
       "\t 16.95525 & 16.56919\\\\\n",
       "\t 17.48369 & 17.74396\\\\\n",
       "\\end{tabular}\n"
      ],
      "text/markdown": [
       "\n",
       "| ln_international | ln_domestic |\n",
       "|---|---|\n",
       "| 16.69528 | 16.85926 |\n",
       "| 18.46693 | 18.16337 |\n",
       "| 19.78405 | 19.21519 |\n",
       "| 19.46288 | 19.07540 |\n",
       "| 16.95525 | 16.56919 |\n",
       "| 17.48369 | 17.74396 |\n",
       "\n"
      ],
      "text/plain": [
       "  ln_international ln_domestic\n",
       "1 16.69528         16.85926   \n",
       "2 18.46693         18.16337   \n",
       "3 19.78405         19.21519   \n",
       "4 19.46288         19.07540   \n",
       "5 16.95525         16.56919   \n",
       "6 17.48369         17.74396   "
      ]
     },
     "metadata": {},
     "output_type": "display_data"
    },
    {
     "data": {
      "text/html": [
       "<table>\n",
       "<thead><tr><th scope=col>id_number</th><th scope=col>Title flag</th><th scope=col>movie_name</th><th scope=col>year</th><th scope=col>budget</th><th scope=col>domestic</th><th scope=col>international</th><th scope=col>rating</th><th scope=col>storytype</th><th scope=col>source</th><th scope=col>...</th><th scope=col>actor_3_avg_bo</th><th scope=col>ln_budget</th><th scope=col>sqrt_budget</th><th scope=col>ln_international</th><th scope=col>ln_domestic</th><th scope=col>ln_directors_avg_bo</th><th scope=col>ln_actor_1_avg_bo</th><th scope=col>ln_actor_2_avg_bo</th><th scope=col>ln_actor_3_avg_bo</th><th scope=col>ln_sum_actor_avg_bo</th></tr></thead>\n",
       "<tbody>\n",
       "\t<tr><td>264790100                   </td><td>0                           </td><td>Flatliners                  </td><td>2017                        </td><td>2.0e+07                     </td><td> 16877430                   </td><td> 28192226                   </td><td>PG-13                       </td><td>Science\n",
       "Fiction            </td><td>Original\n",
       "Screenplay        </td><td>...                         </td><td> 15036069                   </td><td>16.81124                    </td><td> 4472.136                   </td><td>17.15456                    </td><td>16.64149                    </td><td>17.93180                    </td><td>18.39248                    </td><td>18.41242                    </td><td>16.52596                    </td><td>19.16942                    </td></tr>\n",
       "\t<tr><td>207170100                   </td><td>0                           </td><td>Ben-Hur                     </td><td>2016                        </td><td>9.5e+07                     </td><td> 26410477                   </td><td> 62314623                   </td><td>PG-13                       </td><td>Historical\n",
       "Fiction         </td><td>Fiction\n",
       "Book/Short\n",
       "Story  </td><td>...                         </td><td>105334948                   </td><td>18.36939                    </td><td> 9746.794                   </td><td>17.94771                    </td><td>17.08927                    </td><td>19.06013                    </td><td>19.34121                    </td><td>19.07939                    </td><td>18.47266                    </td><td>20.12475                    </td></tr>\n",
       "\t<tr><td>142380100                   </td><td>0                           </td><td>Deadpool                    </td><td>2016                        </td><td>5.8e+07                     </td><td>363070709                   </td><td>437958540                   </td><td>R                           </td><td>Super\n",
       "Hero                 </td><td>Graphic\n",
       "Novel/Game         </td><td>...                         </td><td>801029249                   </td><td>17.87595                    </td><td> 7615.773                   </td><td>19.89763                    </td><td>19.71011                    </td><td>20.50141                    </td><td>19.36370                    </td><td>19.89169                    </td><td>20.50141                    </td><td>21.12416                    </td></tr>\n",
       "\t<tr><td>181360100                   </td><td>0                           </td><td>Kung Fu Panda 3             </td><td>2016                        </td><td>1.4e+08                     </td><td>143528619                   </td><td>375085764                   </td><td>PG                          </td><td>Kids\n",
       "Fiction               </td><td>Original\n",
       "Screenplay        </td><td>...                         </td><td>386894149                   </td><td>18.75715                    </td><td>11832.160                   </td><td>19.74267                    </td><td>18.78205                    </td><td>20.06667                    </td><td>19.09332                    </td><td>19.70781                    </td><td>19.77366                    </td><td>20.66677                    </td></tr>\n",
       "\t<tr><td>227640100                   </td><td>0                           </td><td>Money Monster               </td><td>2016                        </td><td>2.7e+07                     </td><td> 41012075                   </td><td> 52457624                   </td><td>R                           </td><td>Contemporary\n",
       "Fiction       </td><td>Original\n",
       "Screenplay        </td><td>...                         </td><td>121470366                   </td><td>17.11135                    </td><td> 5196.152                   </td><td>17.77552                    </td><td>17.52938                    </td><td>17.71258                    </td><td>18.39248                    </td><td>18.67143                    </td><td>18.61518                    </td><td>19.66538                    </td></tr>\n",
       "\t<tr><td>208990100                   </td><td>0                           </td><td>Neighbors 2: Sorority Rising</td><td>2016                        </td><td>3.5e+07                     </td><td> 55340730                   </td><td> 53417791                   </td><td>R                           </td><td>Contemporary\n",
       "Fiction       </td><td>Original\n",
       "Screenplay        </td><td>...                         </td><td>108758521                   </td><td>17.37086                    </td><td> 5916.080                   </td><td>17.79365                    </td><td>17.82902                    </td><td>18.66434                    </td><td>18.67890                    </td><td>19.48756                    </td><td>18.50464                    </td><td>20.08622                    </td></tr>\n",
       "</tbody>\n",
       "</table>\n"
      ],
      "text/latex": [
       "\\begin{tabular}{r|llllllllllllllllllllllllll}\n",
       " id\\_number & Title flag & movie\\_name & year & budget & domestic & international & rating & storytype & source & ... & actor\\_3\\_avg\\_bo & ln\\_budget & sqrt\\_budget & ln\\_international & ln\\_domestic & ln\\_directors\\_avg\\_bo & ln\\_actor\\_1\\_avg\\_bo & ln\\_actor\\_2\\_avg\\_bo & ln\\_actor\\_3\\_avg\\_bo & ln\\_sum\\_actor\\_avg\\_bo\\\\\n",
       "\\hline\n",
       "\t 264790100                    & 0                            & Flatliners                   & 2017                         & 2.0e+07                      &  16877430                    &  28192226                    & PG-13                        & Science\n",
       "Fiction             & Original\n",
       "Screenplay         & ...                          &  15036069                    & 16.81124                     &  4472.136                    & 17.15456                     & 16.64149                     & 17.93180                     & 18.39248                     & 18.41242                     & 16.52596                     & 19.16942                    \\\\\n",
       "\t 207170100                    & 0                            & Ben-Hur                      & 2016                         & 9.5e+07                      &  26410477                    &  62314623                    & PG-13                        & Historical\n",
       "Fiction          & Fiction\n",
       "Book/Short\n",
       "Story   & ...                          & 105334948                    & 18.36939                     &  9746.794                    & 17.94771                     & 17.08927                     & 19.06013                     & 19.34121                     & 19.07939                     & 18.47266                     & 20.12475                    \\\\\n",
       "\t 142380100                    & 0                            & Deadpool                     & 2016                         & 5.8e+07                      & 363070709                    & 437958540                    & R                            & Super\n",
       "Hero                  & Graphic\n",
       "Novel/Game          & ...                          & 801029249                    & 17.87595                     &  7615.773                    & 19.89763                     & 19.71011                     & 20.50141                     & 19.36370                     & 19.89169                     & 20.50141                     & 21.12416                    \\\\\n",
       "\t 181360100                    & 0                            & Kung Fu Panda 3              & 2016                         & 1.4e+08                      & 143528619                    & 375085764                    & PG                           & Kids\n",
       "Fiction                & Original\n",
       "Screenplay         & ...                          & 386894149                    & 18.75715                     & 11832.160                    & 19.74267                     & 18.78205                     & 20.06667                     & 19.09332                     & 19.70781                     & 19.77366                     & 20.66677                    \\\\\n",
       "\t 227640100                    & 0                            & Money Monster                & 2016                         & 2.7e+07                      &  41012075                    &  52457624                    & R                            & Contemporary\n",
       "Fiction        & Original\n",
       "Screenplay         & ...                          & 121470366                    & 17.11135                     &  5196.152                    & 17.77552                     & 17.52938                     & 17.71258                     & 18.39248                     & 18.67143                     & 18.61518                     & 19.66538                    \\\\\n",
       "\t 208990100                    & 0                            & Neighbors 2: Sorority Rising & 2016                         & 3.5e+07                      &  55340730                    &  53417791                    & R                            & Contemporary\n",
       "Fiction        & Original\n",
       "Screenplay         & ...                          & 108758521                    & 17.37086                     &  5916.080                    & 17.79365                     & 17.82902                     & 18.66434                     & 18.67890                     & 19.48756                     & 18.50464                     & 20.08622                    \\\\\n",
       "\\end{tabular}\n"
      ],
      "text/markdown": [
       "\n",
       "| id_number | Title flag | movie_name | year | budget | domestic | international | rating | storytype | source | ... | actor_3_avg_bo | ln_budget | sqrt_budget | ln_international | ln_domestic | ln_directors_avg_bo | ln_actor_1_avg_bo | ln_actor_2_avg_bo | ln_actor_3_avg_bo | ln_sum_actor_avg_bo |\n",
       "|---|---|---|---|---|---|---|---|---|---|---|---|---|---|---|---|---|---|---|---|---|\n",
       "| 264790100                    | 0                            | Flatliners                   | 2017                         | 2.0e+07                      |  16877430                    |  28192226                    | PG-13                        | Science\n",
       "Fiction             | Original\n",
       "Screenplay         | ...                          |  15036069                    | 16.81124                     |  4472.136                    | 17.15456                     | 16.64149                     | 17.93180                     | 18.39248                     | 18.41242                     | 16.52596                     | 19.16942                     |\n",
       "| 207170100                    | 0                            | Ben-Hur                      | 2016                         | 9.5e+07                      |  26410477                    |  62314623                    | PG-13                        | Historical\n",
       "Fiction          | Fiction\n",
       "Book/Short\n",
       "Story   | ...                          | 105334948                    | 18.36939                     |  9746.794                    | 17.94771                     | 17.08927                     | 19.06013                     | 19.34121                     | 19.07939                     | 18.47266                     | 20.12475                     |\n",
       "| 142380100                    | 0                            | Deadpool                     | 2016                         | 5.8e+07                      | 363070709                    | 437958540                    | R                            | Super\n",
       "Hero                  | Graphic\n",
       "Novel/Game          | ...                          | 801029249                    | 17.87595                     |  7615.773                    | 19.89763                     | 19.71011                     | 20.50141                     | 19.36370                     | 19.89169                     | 20.50141                     | 21.12416                     |\n",
       "| 181360100                    | 0                            | Kung Fu Panda 3              | 2016                         | 1.4e+08                      | 143528619                    | 375085764                    | PG                           | Kids\n",
       "Fiction                | Original\n",
       "Screenplay         | ...                          | 386894149                    | 18.75715                     | 11832.160                    | 19.74267                     | 18.78205                     | 20.06667                     | 19.09332                     | 19.70781                     | 19.77366                     | 20.66677                     |\n",
       "| 227640100                    | 0                            | Money Monster                | 2016                         | 2.7e+07                      |  41012075                    |  52457624                    | R                            | Contemporary\n",
       "Fiction        | Original\n",
       "Screenplay         | ...                          | 121470366                    | 17.11135                     |  5196.152                    | 17.77552                     | 17.52938                     | 17.71258                     | 18.39248                     | 18.67143                     | 18.61518                     | 19.66538                     |\n",
       "| 208990100                    | 0                            | Neighbors 2: Sorority Rising | 2016                         | 3.5e+07                      |  55340730                    |  53417791                    | R                            | Contemporary\n",
       "Fiction        | Original\n",
       "Screenplay         | ...                          | 108758521                    | 17.37086                     |  5916.080                    | 17.79365                     | 17.82902                     | 18.66434                     | 18.67890                     | 19.48756                     | 18.50464                     | 20.08622                     |\n",
       "\n"
      ],
      "text/plain": [
       "  id_number Title flag movie_name                   year budget  domestic \n",
       "1 264790100 0          Flatliners                   2017 2.0e+07  16877430\n",
       "2 207170100 0          Ben-Hur                      2016 9.5e+07  26410477\n",
       "3 142380100 0          Deadpool                     2016 5.8e+07 363070709\n",
       "4 181360100 0          Kung Fu Panda 3              2016 1.4e+08 143528619\n",
       "5 227640100 0          Money Monster                2016 2.7e+07  41012075\n",
       "6 208990100 0          Neighbors 2: Sorority Rising 2016 3.5e+07  55340730\n",
       "  international rating storytype             source                     ...\n",
       "1  28192226     PG-13  Science\\nFiction      Original\\nScreenplay       ...\n",
       "2  62314623     PG-13  Historical\\nFiction   Fiction\\nBook/Short\\nStory ...\n",
       "3 437958540     R      Super\\nHero           Graphic\\nNovel/Game        ...\n",
       "4 375085764     PG     Kids\\nFiction         Original\\nScreenplay       ...\n",
       "5  52457624     R      Contemporary\\nFiction Original\\nScreenplay       ...\n",
       "6  53417791     R      Contemporary\\nFiction Original\\nScreenplay       ...\n",
       "  actor_3_avg_bo ln_budget sqrt_budget ln_international ln_domestic\n",
       "1  15036069      16.81124   4472.136   17.15456         16.64149   \n",
       "2 105334948      18.36939   9746.794   17.94771         17.08927   \n",
       "3 801029249      17.87595   7615.773   19.89763         19.71011   \n",
       "4 386894149      18.75715  11832.160   19.74267         18.78205   \n",
       "5 121470366      17.11135   5196.152   17.77552         17.52938   \n",
       "6 108758521      17.37086   5916.080   17.79365         17.82902   \n",
       "  ln_directors_avg_bo ln_actor_1_avg_bo ln_actor_2_avg_bo ln_actor_3_avg_bo\n",
       "1 17.93180            18.39248          18.41242          16.52596         \n",
       "2 19.06013            19.34121          19.07939          18.47266         \n",
       "3 20.50141            19.36370          19.89169          20.50141         \n",
       "4 20.06667            19.09332          19.70781          19.77366         \n",
       "5 17.71258            18.39248          18.67143          18.61518         \n",
       "6 18.66434            18.67890          19.48756          18.50464         \n",
       "  ln_sum_actor_avg_bo\n",
       "1 19.16942           \n",
       "2 20.12475           \n",
       "3 21.12416           \n",
       "4 20.66677           \n",
       "5 19.66538           \n",
       "6 20.08622           "
      ]
     },
     "metadata": {},
     "output_type": "display_data"
    },
    {
     "data": {
      "text/plain": [
       "Response ln_international :\n",
       "\n",
       "Call:\n",
       "lm(formula = ln_international ~ ln_budget + rating + source + \n",
       "    genre + ln_directors_avg_bo + ln_sum_actor_avg_bo, data = train)\n",
       "\n",
       "Residuals:\n",
       "    Min      1Q  Median      3Q     Max \n",
       "-5.4180 -0.3643  0.1559  0.6035  3.0452 \n",
       "\n",
       "Coefficients:\n",
       "                                   Estimate Std. Error t value Pr(>|t|)    \n",
       "(Intercept)                      -14.423674   0.978765 -14.737  < 2e-16 ***\n",
       "ln_budget                          0.510951   0.060259   8.479  < 2e-16 ***\n",
       "ratingPG-13                        0.304525   0.111466   2.732 0.006408 ** \n",
       "ratingR                            0.305698   0.117908   2.593 0.009664 ** \n",
       "sourceFiction\\nBook/Short\\nStory   0.448581   0.128755   3.484 0.000516 ***\n",
       "sourceGraphic\\nNovel/Game          0.238509   0.178783   1.334 0.182487    \n",
       "sourceLive/Live\\nAdaptation       -0.230833   0.262882  -0.878 0.380111    \n",
       "sourceOriginal\\nScreenplay         0.293409   0.123399   2.378 0.017610 *  \n",
       "sourceRemake                       0.288740   0.178049   1.622 0.105190    \n",
       "sourceTV                           0.292221   0.246016   1.188 0.235192    \n",
       "genreAdventure                     0.004347   0.139577   0.031 0.975158    \n",
       "genreComedy                       -0.334714   0.123796  -2.704 0.006974 ** \n",
       "genreDrama                        -0.301084   0.129048  -2.333 0.019842 *  \n",
       "genreThriller/Horror               0.123007   0.126543   0.972 0.331259    \n",
       "ln_directors_avg_bo                0.671541   0.035135  19.113  < 2e-16 ***\n",
       "ln_sum_actor_avg_bo                0.509475   0.046372  10.987  < 2e-16 ***\n",
       "---\n",
       "Signif. codes:  0 '***' 0.001 '**' 0.01 '*' 0.05 '.' 0.1 ' ' 1\n",
       "\n",
       "Residual standard error: 1.042 on 987 degrees of freedom\n",
       "Multiple R-squared:  0.7206,\tAdjusted R-squared:  0.7163 \n",
       "F-statistic: 169.7 on 15 and 987 DF,  p-value: < 2.2e-16\n",
       "\n",
       "\n",
       "Response ln_domestic :\n",
       "\n",
       "Call:\n",
       "lm(formula = ln_domestic ~ ln_budget + rating + source + genre + \n",
       "    ln_directors_avg_bo + ln_sum_actor_avg_bo, data = train)\n",
       "\n",
       "Residuals:\n",
       "    Min      1Q  Median      3Q     Max \n",
       "-6.4542 -0.3365  0.1518  0.5710  2.1431 \n",
       "\n",
       "Coefficients:\n",
       "                                 Estimate Std. Error t value Pr(>|t|)    \n",
       "(Intercept)                      -6.12062    0.89837  -6.813 1.66e-11 ***\n",
       "ln_budget                         0.09158    0.05531   1.656 0.098099 .  \n",
       "ratingPG-13                      -0.02872    0.10231  -0.281 0.779014    \n",
       "ratingR                          -0.39199    0.10822  -3.622 0.000307 ***\n",
       "sourceFiction\\nBook/Short\\nStory  0.07088    0.11818   0.600 0.548795    \n",
       "sourceGraphic\\nNovel/Game         0.15751    0.16410   0.960 0.337362    \n",
       "sourceLive/Live\\nAdaptation      -0.26980    0.24129  -1.118 0.263774    \n",
       "sourceOriginal\\nScreenplay        0.07944    0.11326   0.701 0.483258    \n",
       "sourceRemake                      0.36447    0.16342   2.230 0.025960 *  \n",
       "sourceTV                          0.16849    0.22581   0.746 0.455741    \n",
       "genreAdventure                   -0.02294    0.12811  -0.179 0.857926    \n",
       "genreComedy                       0.44044    0.11363   3.876 0.000113 ***\n",
       "genreDrama                        0.10595    0.11845   0.894 0.371275    \n",
       "genreThriller/Horror              0.16657    0.11615   1.434 0.151861    \n",
       "ln_directors_avg_bo               0.73683    0.03225  22.848  < 2e-16 ***\n",
       "ln_sum_actor_avg_bo               0.41788    0.04256   9.818  < 2e-16 ***\n",
       "---\n",
       "Signif. codes:  0 '***' 0.001 '**' 0.01 '*' 0.05 '.' 0.1 ' ' 1\n",
       "\n",
       "Residual standard error: 0.9561 on 987 degrees of freedom\n",
       "Multiple R-squared:  0.6798,\tAdjusted R-squared:  0.6749 \n",
       "F-statistic: 139.7 on 15 and 987 DF,  p-value: < 2.2e-16\n",
       "\n"
      ]
     },
     "metadata": {},
     "output_type": "display_data"
    }
   ],
   "source": [
    "# insert test predicitons\n",
    "predict_m2<-predict(m2_train,test)\n",
    "head(predict_m2)\n",
    "head(test)\n",
    "\n",
    "\n",
    "summary(m2_train)"
   ]
  },
  {
   "cell_type": "code",
   "execution_count": 128,
   "metadata": {},
   "outputs": [
    {
     "name": "stdout",
     "output_type": "stream",
     "text": [
      "The R-quare for international box office prediction is: 0.6222723 \n",
      "The R-quare for domestic box office prediction is: 0.5955638"
     ]
    }
   ],
   "source": [
    "#convert predisction resutls to a dataframe\n",
    "predict_m2_df<-as.data.frame(predict_m2)\n",
    "\n",
    "#calculate the r-square of International Box Office\n",
    "SSE_international = sum((test$ln_international - predict_m2_df$ln_international)^2) # Explained variation\n",
    "SST_international = sum((test$ln_international - mean(test$ln_international))^2) # Total Variation\n",
    "Rsq_international=1 - SSE_international/SST_international\n",
    "\n",
    "cat(\"The R-quare for international box office prediction is:\", Rsq_international,\"\\n\")\n",
    "\n",
    "#calculate the r-square of Domestic Box Office\n",
    "SSE_domestic = sum((test$ln_domestic - predict_m2_df$ln_domestic)^2) # Explained variation\n",
    "SST_domestic = sum((test$ln_domestic - mean(test$ln_domestic))^2) # Total Variation\n",
    "Rsq_domestic=1 - SSE_domestic/SST_domestic\n",
    "\n",
    "cat(\"The R-quare for domestic box office prediction is:\",Rsq_domestic)\n",
    "\n",
    "coefficients<-m2_train$coefficient"
   ]
  }
 ],
 "metadata": {
  "kernelspec": {
   "display_name": "R",
   "language": "R",
   "name": "ir"
  },
  "language_info": {
   "codemirror_mode": "r",
   "file_extension": ".r",
   "mimetype": "text/x-r-source",
   "name": "R",
   "pygments_lexer": "r",
   "version": "3.6.0"
  }
 },
 "nbformat": 4,
 "nbformat_minor": 2
}
